{
 "cells": [
  {
   "cell_type": "markdown",
   "metadata": {},
   "source": [
    "# Flightly\n",
    "\n",
    "Modelling 2015 US commercial airline flight queries using SQL and Neo4j"
   ]
  },
  {
   "cell_type": "markdown",
   "metadata": {},
   "source": [
    "### Setup Neo4j Query Object Wrapper\n",
    "This object will allow us to receive the result of the query and also measure the time it takes for X number of queries to be completed."
   ]
  },
  {
   "cell_type": "code",
   "execution_count": 1,
   "metadata": {},
   "outputs": [],
   "source": [
    "LINE_LIMIT = 20000"
   ]
  },
  {
   "cell_type": "code",
   "execution_count": 2,
   "metadata": {},
   "outputs": [],
   "source": [
    "from neo4j import GraphDatabase\n",
    "import timeit\n",
    "\n",
    "neoconn = ('bolt://localhost:7687', 'neo4j', 'password')\n",
    "\n",
    "class NeoQuery(object):\n",
    "    def __init__(self, query):\n",
    "        url, user, password = neoconn\n",
    "        self._driver = GraphDatabase.driver(url, auth=(user, password))\n",
    "        self._query = query\n",
    "\n",
    "    def close(self):\n",
    "        self._driver.close()\n",
    "        \n",
    "    def query(self, times=1):\n",
    "        results = self._run_cypher()\n",
    "        time = timeit.timeit(self._run_cypher, number=times)\n",
    "        self.close()\n",
    "        return results, time\n",
    "        \n",
    "    def _run_cypher(self):\n",
    "        with self._driver.session() as session:\n",
    "            return session.run(self._query)"
   ]
  },
  {
   "cell_type": "markdown",
   "metadata": {},
   "source": [
    "### Setup Postgres Query Wrapper"
   ]
  },
  {
   "cell_type": "code",
   "execution_count": 3,
   "metadata": {},
   "outputs": [],
   "source": [
    "tmp = !pwd\n",
    "current_path = tmp[0]\n",
    "\n",
    "import psycopg2\n",
    "from psycopg2 import Error\n",
    "import timeit\n",
    "\n",
    "pgconn = ('kevin', '', '127.0.0.1', '5432', 'flightly')\n",
    "\n",
    "class PostgresQuery(object):\n",
    "    def __init__(self, query):\n",
    "        user, password, host, port, database = pgconn\n",
    "        self._query = query\n",
    "        try:\n",
    "            self._connection = psycopg2.connect(\n",
    "                user = user,\n",
    "                password = password,\n",
    "                host = host,\n",
    "                port = port,\n",
    "                database = database\n",
    "            )\n",
    "            self._cursor = self._connection.cursor()\n",
    "        except:\n",
    "            print(\"Failed to connect to PostgreSQL DB\")\n",
    "\n",
    "    def query(self, times=1):\n",
    "        try:\n",
    "            results = self._run_sql()\n",
    "            time = timeit.timeit(self._run_sql, number=times)\n",
    "            self._connection.commit()\n",
    "            return results, time\n",
    "        except (Exception, psycopg2.DatabaseError) as error :\n",
    "            print (\"Error while executing SQL command\", error)\n",
    "        finally:\n",
    "            self._cursor.close()\n",
    "            self._connection.close()\n",
    "    \n",
    "    def _run_sql(self):      \n",
    "        self._cursor.execute(self._query)\n",
    "        try:\n",
    "            return self._cursor.fetchall()\n",
    "        except:\n",
    "            return []"
   ]
  },
  {
   "cell_type": "markdown",
   "metadata": {},
   "source": [
    "### Initialization queries\n",
    "Delete all of the existing nodes and relationships to start with clean slate.\n",
    "Then, load all the csv files into the DB"
   ]
  },
  {
   "cell_type": "code",
   "execution_count": 21,
   "metadata": {},
   "outputs": [],
   "source": [
    "init_queries = {\n",
    "    'delete_all': \"\"\"\n",
    "                   MATCH (n)\n",
    "                   DETACH DELETE n\n",
    "                   \"\"\",\n",
    "    'load_airlines': \"\"\"\n",
    "            LOAD CSV FROM 'file:///flightly/airlines.csv' AS line\n",
    "            CREATE (:Airline { name: line[1], iata: line[0]})\n",
    "            \"\"\",\n",
    "    'load_airports': \"\"\"\n",
    "            LOAD CSV FROM 'file:///flightly/airports.csv' AS line\n",
    "            CREATE (:Airport { name: line[1], iata: line[0], city: line[2], state: line[3], country: line[4], latitude: line[5], longitude: line[6]})\n",
    "            \"\"\",\n",
    "    'load_flights': f\"\"\"\n",
    "            USING PERIODIC COMMIT 1000\n",
    "            LOAD CSV FROM 'file:///flightly/flights.csv' AS line\n",
    "            WITH line LIMIT {LINE_LIMIT-1}\n",
    "            CREATE (:Flight {{ \n",
    "                year: line[0],\n",
    "                month: line[1],\n",
    "                day: line[2],\n",
    "                day_of_week: line[3],\n",
    "                airline: line[4],\n",
    "                flight_number: line[5],\n",
    "                tail_number: line[6],\n",
    "                origin_airport: line[7],\n",
    "                destination_airport: line[8],\n",
    "                scheduled_departure: line[9],\n",
    "                departure_time: line[10],\n",
    "                departure_delay: line[11],\n",
    "                taxi_out: line[12],\n",
    "                wheels_off: line[13],\n",
    "                scheduled_time: line[14],\n",
    "                elapsed_time: line[15],\n",
    "                air_time: line[16],\n",
    "                distance: line[17],\n",
    "                wheels_on: line[18],\n",
    "                taxi_in: line[19],\n",
    "                scheduled_arrival: line[20],\n",
    "                arrival_time: line[21],\n",
    "                arrival_delay: line[22],\n",
    "                diverted: line[23],\n",
    "                cancelled: line[24],\n",
    "                cancellation_reason: line[25],\n",
    "                air_system_delay: line[26],\n",
    "                security_delay: line[27],\n",
    "                airline_delay: line[28],\n",
    "                late_aircraft_delay: line[29],\n",
    "                weather_delay: line[30]\n",
    "            }})\n",
    "            CREATE (:Tail {{\n",
    "                number: line[6]\n",
    "            }})\n",
    "            \"\"\"\n",
    "}\n",
    "\n",
    "for query in init_queries.items():\n",
    "    NeoQuery(query[1]).query(0)"
   ]
  },
  {
   "cell_type": "code",
   "execution_count": 22,
   "metadata": {},
   "outputs": [],
   "source": [
    "init_queries = {\n",
    "    'drop_all_tables': \"\"\"\n",
    "        DROP SCHEMA public CASCADE;\n",
    "        CREATE SCHEMA public;\n",
    "        \n",
    "        GRANT ALL ON SCHEMA public TO postgres;\n",
    "        GRANT ALL ON SCHEMA public TO public;\n",
    "        \"\"\",\n",
    "    'create_airlines_table': \"\"\"\n",
    "        CREATE TABLE IF NOT EXISTS airlines (\n",
    "          iata text,\n",
    "          name text);\n",
    "        \"\"\",\n",
    "    'create_airports_table': \"\"\"\n",
    "        CREATE TABLE IF NOT EXISTS airports (\n",
    "          iata text,\n",
    "          name text,\n",
    "          city text,\n",
    "          state text,\n",
    "          country text,\n",
    "          latitude text,\n",
    "          longitude text\n",
    "          );\n",
    "        \"\"\",\n",
    "    'create_flights_table': \"\"\"\n",
    "        CREATE TABLE IF NOT EXISTS flights (\n",
    "            year text,\n",
    "            month text,\n",
    "            day text,\n",
    "            day_of_week text,\n",
    "            airline text,\n",
    "            flight_number text,\n",
    "            tail_number text,\n",
    "            origin_airport text,\n",
    "            destination_airport text,\n",
    "            scheduled_departure text,\n",
    "            departure_time text,\n",
    "            departure_delay text,\n",
    "            taxi_out text,\n",
    "            wheels_off text,\n",
    "            scheduled_time text,\n",
    "            elapsed_time text,\n",
    "            air_time text,\n",
    "            distance text,\n",
    "            wheels_on text,\n",
    "            taxi_in text,\n",
    "            scheduled_arrival text,\n",
    "            arrival_time text,\n",
    "            arrival_delay text,\n",
    "            diverted text,\n",
    "            cancelled text,\n",
    "            cancellation_reason text,\n",
    "            air_system_delay text,\n",
    "            security_delay text,\n",
    "            airline_delay text,\n",
    "            late_aircraft_delay text,\n",
    "            weather_delay text\n",
    "        );\n",
    "        \"\"\",\n",
    "    'load_airlines_csv': f\"\"\"\n",
    "        COPY airlines\n",
    "        FROM '{current_path}/csv/airlines.csv' DELIMITER ',' HEADER CSV;\n",
    "        \"\"\",\n",
    "    'load_airports_csv': f\"\"\"\n",
    "        COPY airports\n",
    "        FROM '{current_path}/csv/airports.csv' DELIMITER ',' HEADER CSV;\n",
    "        \"\"\",\n",
    "    'load_flights_csv': f\"\"\"\n",
    "        COPY flights\n",
    "        FROM PROGRAM 'head -{LINE_LIMIT} {current_path}/csv/flights.csv' DELIMITER ',' HEADER CSV;\n",
    "        \"\"\"\n",
    "}\n",
    "\n",
    "for query in init_queries.items():\n",
    "    PostgresQuery(query[1]).query(0)"
   ]
  },
  {
   "cell_type": "markdown",
   "metadata": {},
   "source": [
    "### Match queries\n",
    "Create the relationships that..."
   ]
  },
  {
   "cell_type": "code",
   "execution_count": 23,
   "metadata": {},
   "outputs": [],
   "source": [
    "match_queries = {\n",
    "    'match_origin_airport': \"\"\"\n",
    "            MATCH (fl:Flight),(ap:Airport)\n",
    "            WHERE fl.origin_airport = ap.iata\n",
    "            CREATE (ap)-[r:HAS_DEPARTURE]->(fl)\n",
    "            RETURN type(r)\n",
    "            \"\"\",\n",
    "        \n",
    "    'match_destination_airport': \"\"\"\n",
    "            MATCH (fl:Flight),(ap:Airport)\n",
    "            WHERE fl.destination_airport = ap.iata\n",
    "            CREATE (fl)-[:FLIES_TO]->(ap)\n",
    "            \"\"\",\n",
    "    'match_airline': \"\"\"\n",
    "            MATCH (fl:Flight),(al:Airline)\n",
    "            WHERE fl.airline = al.iata\n",
    "            CREATE (fl)-[:OPERATED_BY]->(al)\n",
    "            \"\"\",\n",
    "    'match_tail': \"\"\"\n",
    "            MATCH (fl:Flight),(tl:Tail)\n",
    "            WHERE fl.tail_number = tl.number\n",
    "            CREATE (fl)-[:USES]->(tl)\n",
    "            \"\"\"\n",
    "}\n",
    "\n",
    "for query in match_queries.items():\n",
    "    NeoQuery(query[1]).query(0)"
   ]
  },
  {
   "cell_type": "markdown",
   "metadata": {},
   "source": [
    "### Single table queries"
   ]
  },
  {
   "cell_type": "code",
   "execution_count": 7,
   "metadata": {},
   "outputs": [
    {
     "name": "stdout",
     "output_type": "stream",
     "text": [
      "2.6750963899999984\n",
      "0.7554977479999998\n"
     ]
    },
    {
     "data": {
      "text/plain": [
       "[]"
      ]
     },
     "execution_count": 7,
     "metadata": {},
     "output_type": "execute_result"
    }
   ],
   "source": [
    "# all flights out of ORD\n",
    "\n",
    "nresults, ntime = NeoQuery(\n",
    "    \"\"\"\n",
    "    MATCH (fl:Flight {origin_airport: 'ORD'})\n",
    "    RETURN fl.flight_number\n",
    "    \"\"\"\n",
    ").query(100)\n",
    "\n",
    "presults, ptime = PostgresQuery(\n",
    "    \"\"\"\n",
    "    SELECT flight_number from flights where origin_airport = 'ORD'\n",
    "    \"\"\"\n",
    ").query(100)\n",
    "\n",
    "#time and results\n",
    "\n",
    "print(ntime)\n",
    "nresults = [record[0] for record in nresults]\n",
    "\n",
    "print(ptime)\n",
    "presults = [record[0] for record in presults]\n",
    "\n",
    "list(set(presults) - set(nresults))"
   ]
  },
  {
   "cell_type": "code",
   "execution_count": 8,
   "metadata": {},
   "outputs": [
    {
     "name": "stdout",
     "output_type": "stream",
     "text": [
      "5.081735812000002\n",
      "1.197347666999999\n",
      "['1057', '824', '5976', '5547', '247', '1205', '943', '6420', '1492', '1966', '2522', '3432', '1207', '595', '705', '1195', '531', '1109', '2393', '110', '5242', '1499', '2567', '240', '4978', '3047', '2413', '6283', '337', '6458', '395', '974', '416', '567', '992', '258', '5518', '164', '749', '4712', '6323', '1623', '442', '6279', '4992', '169', '2591', '56', '3200', '1590', '5387', '43', '5315', '3492', '1532', '1221', '570', '5561', '5529', '1422', '2413', '2055', '239', '597', '4671', '1410', '5365', '123', '2393', '4479', '2389', '6183', '1531', '452', '4619', '4556', '1683', '5160', '1189', '1218', '3274', '306', '5919', '2317', '510', '1081', '2072', '7', '5384', '4264', '2773', '1437', '4540', '1605', '3214', '170', '5502', '5163', '5578', '6161', '820', '395', '1180', '2417', '4479', '5', '4706', '5565', '2470', '399', '4447', '5315', '6011', '5183', '1391', '1263', '785', '489', '690', '5421', '1697', '821', '5997', '5204', '4654', '2773', '551', '305', '4264', '5171', '398', '5315', '386', '221', '2360', '598', '1636', '239', '754', '4561', '2251', '6098', '5371', '2418', '3303', '4208', '1417', '203', '4989', '2809', '5498', '1987', '152', '1475', '1337', '395', '1029', '5935', '2324', '586', '5212', '2639', '1149', '1697', '532', '1554', '1535', '2418', '942', '3118', '528', '287', '3226', '1091', '3647', '1668', '487', '51', '2922', '4526', '1590', '6538', '2345', '311', '2325', '1615', '4259', '1541', '8', '1116', '285', '3570', '60', '2478', '2466', '188', '741', '579', '2168', '928', '3590', '386', '1502', '2774', '2157', '586', '4840', '1704', '6213', '208', '1008', '2296', '6190', '1189', '1598', '4774', '3056', '1047', '156', '1535', '682', '102', '1704', '2524', '1355', '126', '822', '530', '1114', '1091', '5906', '6467', '457', '735', '2339', '4690', '763', '4541', '1643', '2534', '6256', '3659', '1116', '680', '5573', '1645', '2501', '2644', '4529', '3396', '380', '1537', '1439', '751', '1566', '1571', '586', '1384', '1495', '1523', '2362', '1595', '2345', '581', '303', '2540', '4552', '1004', '5475', '763', '2427', '2382', '1344', '2300', '1413', '697', '5465', '1840', '90', '6457', '4151', '2962', '3014', '3194', '6497', '1492', '1768', '612', '3609', '4809', '1158', '3443', '2775', '5291', '2253', '3082', '2407', '1703', '3188', '2319', '531', '663', '2852', '130', '1408', '1232', '568', '4672', '5240', '5173', '4856', '245', '2250', '6322', '4978', '1752', '1146', '135', '2407', '1043', '1511', '6580', '2286', '5545', '44', '1444', '6228', '196', '1662', '388', '2263', '729', '5445', '455', '4169', '5534', '2215', '130', '479', '1408', '5261', '6338', '1885', '1655', '2575', '297', '4856', '1217', '644', '1722', '587', '5614', '1132', '1629', '833', '2286', '290', '1175', '2319', '2210', '2319', '5458', '1927', '1703', '843', '358', '123', '2278', '3301', '1146', '731', '1054', '5480']\n"
     ]
    },
    {
     "data": {
      "text/plain": [
       "[]"
      ]
     },
     "execution_count": 8,
     "metadata": {},
     "output_type": "execute_result"
    }
   ],
   "source": [
    "# all flights with a delay of more than 100 minutes\n",
    "\n",
    "nresults, ntime = NeoQuery(\n",
    "    \"\"\"\n",
    "    MATCH (fl:Flight)\n",
    "    WHERE toInteger(fl.departure_delay) > 100\n",
    "    RETURN fl.flight_number\n",
    "    \"\"\"\n",
    ").query(100)\n",
    "\n",
    "presults, ptime = PostgresQuery(\n",
    "    \"\"\"\n",
    "    SELECT flight_number from flights WHERE CAST (departure_delay AS INTEGER) > 100\n",
    "    \"\"\"\n",
    ").query(100)\n",
    "\n",
    "print(ntime)\n",
    "nresults = [record[0] for record in nresults]\n",
    "\n",
    "print(ptime)\n",
    "presults = [record[0] for record in presults]\n",
    "\n",
    "print(nresults)\n",
    "\n",
    "list(set(presults) - set(nresults))"
   ]
  },
  {
   "cell_type": "markdown",
   "metadata": {},
   "source": [
    "### Using Relationships"
   ]
  },
  {
   "cell_type": "code",
   "execution_count": 9,
   "metadata": {},
   "outputs": [
    {
     "name": "stdout",
     "output_type": "stream",
     "text": [
      "0.6567910459999986\n",
      "3.409754117000002\n",
      "['1805', '447', '1095', '461', '2065', '889', '1808', '461', '2052', '2251', '1076', '2133', '1999', '1744', '1808', '658', '1095', '2065', '1441']\n"
     ]
    },
    {
     "data": {
      "text/plain": [
       "[]"
      ]
     },
     "execution_count": 9,
     "metadata": {},
     "output_type": "execute_result"
    }
   ],
   "source": [
    "# flights departing from Atlanta and arriving in Charlotte\n",
    "\n",
    "nresults, ntime = NeoQuery(\n",
    "    \"\"\"\n",
    "    MATCH (atl:Airport {iata: 'ATL'})-[:HAS_DEPARTURE]->(fl:Flight)-[:FLIES_TO]->(clt:Airport {iata: 'CLT'})\n",
    "    RETURN fl.flight_number\n",
    "    \"\"\"\n",
    ").query(200)\n",
    "\n",
    "presults, ptime = PostgresQuery(\n",
    "    \"\"\"\n",
    "    SELECT flight_number from flights WHERE origin_airport = 'ATL' AND destination_airport = 'CLT'\n",
    "    \"\"\"\n",
    ").query(200)\n",
    "\n",
    "print(ntime)\n",
    "nresults = [record[0] for record in nresults]\n",
    "\n",
    "print(ptime)\n",
    "presults = [record[0] for record in presults]\n",
    "\n",
    "print(nresults)\n",
    "\n",
    "list(set(presults) - set(nresults))"
   ]
  },
  {
   "cell_type": "code",
   "execution_count": 10,
   "metadata": {},
   "outputs": [
    {
     "name": "stdout",
     "output_type": "stream",
     "text": [
      "1.8414816410000014\n",
      "2.4145466110000022\n",
      "['1058', '1256', '661', '531', '1037', '661', '1151', '1665', '1591', '1168', '1037', '865', '521', '1004', '1760']\n"
     ]
    },
    {
     "data": {
      "text/plain": [
       "[]"
      ]
     },
     "execution_count": 10,
     "metadata": {},
     "output_type": "execute_result"
    }
   ],
   "source": [
    "# flights departing from Chicago and arriving in Los Angeles operated by United\n",
    "\n",
    "nresults, ntime = NeoQuery(\n",
    "    \"\"\"\n",
    "    MATCH (ord:Airport {iata: 'ORD'})-[:HAS_DEPARTURE]->(fl:Flight)-[:FLIES_TO]->(lax:Airport {iata: 'LAX'}),\n",
    "          (fl)-[:OPERATED_BY]->(ua:Airline {iata: 'UA'})\n",
    "    RETURN fl.flight_number\n",
    "    \"\"\"\n",
    ").query(200)\n",
    "\n",
    "presults, ptime = PostgresQuery(\n",
    "    \"\"\"\n",
    "    SELECT flight_number from flights WHERE origin_airport = 'ORD' AND destination_airport = 'LAX' AND airline = 'UA'\n",
    "    \"\"\"\n",
    ").query(200)\n",
    "\n",
    "print(ntime)\n",
    "nresults = [record[0] for record in nresults]\n",
    "\n",
    "print(ptime)\n",
    "presults = [record[0] for record in presults]\n",
    "\n",
    "print(nresults)\n",
    "\n",
    "list(set(presults) - set(nresults))"
   ]
  },
  {
   "cell_type": "code",
   "execution_count": 11,
   "metadata": {},
   "outputs": [
    {
     "name": "stdout",
     "output_type": "stream",
     "text": [
      "2.2214365530000038\n",
      "2.711759211999997\n",
      "['1058']\n"
     ]
    },
    {
     "data": {
      "text/plain": [
       "[]"
      ]
     },
     "execution_count": 11,
     "metadata": {},
     "output_type": "execute_result"
    }
   ],
   "source": [
    "# flights departing from Chicago and arriving in Los Angeles operated by United with Tail Number N33209\n",
    "\n",
    "nresults, ntime = NeoQuery(\n",
    "    \"\"\"\n",
    "    MATCH (ord:Airport {iata: 'ORD'})-[:HAS_DEPARTURE]->(fl:Flight)-[:FLIES_TO]->(lax:Airport {iata: 'LAX'}),\n",
    "          (fl)-[:OPERATED_BY]->(ua:Airline {iata: 'UA'}),\n",
    "          (fl)-[:USES]->(tl:Tail {number: 'N33209'})\n",
    "    RETURN DISTINCT fl.flight_number\n",
    "    \"\"\"\n",
    ").query(200)\n",
    "\n",
    "presults, ptime = PostgresQuery(\n",
    "    \"\"\"\n",
    "    SELECT flight_number from flights WHERE origin_airport = 'ORD' AND destination_airport = 'LAX'\n",
    "    AND airline = 'UA' AND tail_number = 'N33209'\n",
    "    \"\"\"\n",
    ").query(200)\n",
    "\n",
    "print(ntime)\n",
    "nresults = [record[0] for record in nresults]\n",
    "\n",
    "print(ptime)\n",
    "presults = [record[0] for record in presults]\n",
    "\n",
    "print(nresults)\n",
    "\n",
    "list(set(presults) - set(nresults))"
   ]
  },
  {
   "cell_type": "markdown",
   "metadata": {},
   "source": [
    "### Joining across tables"
   ]
  },
  {
   "cell_type": "code",
   "execution_count": 12,
   "metadata": {},
   "outputs": [
    {
     "name": "stdout",
     "output_type": "stream",
     "text": [
      "0.9126230030000002\n",
      "2.6258421870000035\n",
      "['American Airlines Inc.', 'Spirit Air Lines', 'United Air Lines Inc.', 'Virgin America']\n"
     ]
    },
    {
     "data": {
      "text/plain": [
       "[]"
      ]
     },
     "execution_count": 12,
     "metadata": {},
     "output_type": "execute_result"
    }
   ],
   "source": [
    "# get names of the airlines operating flights from Chicago to Los Angeles\n",
    "\n",
    "nresults, ntime = NeoQuery(\n",
    "    \"\"\"\n",
    "    MATCH (ord:Airport {iata: 'ORD'})-[:HAS_DEPARTURE]->(fl:Flight)-[:FLIES_TO]->(lax:Airport {iata: 'LAX'}),\n",
    "          (fl)-[:OPERATED_BY]->(al:Airline)\n",
    "    RETURN DISTINCT al.name\n",
    "    \"\"\"\n",
    ").query(200)\n",
    "\n",
    "presults, ptime = PostgresQuery(\n",
    "    \"\"\"\n",
    "    SELECT name from airlines INNER JOIN flights ON (airlines.iata = flights.airline)\n",
    "    WHERE origin_airport = 'ORD' AND destination_airport = 'LAX'\n",
    "    \"\"\"\n",
    ").query(200)\n",
    "\n",
    "print(ntime)\n",
    "nresults = [record[0] for record in nresults]\n",
    "\n",
    "print(ptime)\n",
    "presults = [record[0] for record in presults]\n",
    "\n",
    "print(nresults)\n",
    "\n",
    "list(set(presults) - set(nresults))"
   ]
  },
  {
   "cell_type": "code",
   "execution_count": 54,
   "metadata": {},
   "outputs": [
    {
     "name": "stdout",
     "output_type": "stream",
     "text": [
      "0.31737595699996746\n",
      "2.1772122419997686\n",
      "['San Francisco International Airport', 'Rock Springs-Sweetwater County Airport', 'Gillette-Campbell County Airport', 'Salt Lake City International Airport', \"Chicago O'Hare International Airport\", 'Los Angeles International Airport', 'Minneapolis-Saint Paul International Airport', 'Dallas/Fort Worth International Airport', 'Hartsfield-Jackson Atlanta International Airport', 'Newark Liberty International Airport', 'George Bush Intercontinental Airport', 'Denver International Airport']\n"
     ]
    },
    {
     "data": {
      "text/plain": [
       "[]"
      ]
     },
     "execution_count": 54,
     "metadata": {},
     "output_type": "execute_result"
    }
   ],
   "source": [
    "# get the names of destination airports from all flights originating in New Hampshire\n",
    "\n",
    "nresults, ntime = NeoQuery(\n",
    "    \"\"\"\n",
    "    MATCH (hi:Airport {state: 'WY'})-[:HAS_DEPARTURE]->(fl:Flight)-[:FLIES_TO]->(ap:Airport)\n",
    "    RETURN DISTINCT ap.name\n",
    "    \"\"\"\n",
    ").query(200)\n",
    "\n",
    "presults, ptime = PostgresQuery(\n",
    "    \"\"\"\n",
    "    SELECT name from airports\n",
    "    JOIN flights ON (airports.iata = flights.destination_airport)\n",
    "    where flights.origin_airport IN (SELECT iata from airports WHERE airports.state = 'WY')\n",
    "    \"\"\"\n",
    ").query(200)\n",
    "\n",
    "print(ntime)\n",
    "nresults = [record[0] for record in nresults]\n",
    "\n",
    "print(ptime)\n",
    "presults = [record[0] for record in presults]\n",
    "\n",
    "print(nresults)\n",
    "\n",
    "list(set(presults) - set(nresults))"
   ]
  },
  {
   "cell_type": "code",
   "execution_count": null,
   "metadata": {},
   "outputs": [],
   "source": []
  },
  {
   "cell_type": "code",
   "execution_count": null,
   "metadata": {},
   "outputs": [],
   "source": []
  },
  {
   "cell_type": "code",
   "execution_count": null,
   "metadata": {},
   "outputs": [],
   "source": []
  },
  {
   "cell_type": "code",
   "execution_count": null,
   "metadata": {},
   "outputs": [],
   "source": []
  },
  {
   "cell_type": "code",
   "execution_count": null,
   "metadata": {},
   "outputs": [],
   "source": []
  },
  {
   "cell_type": "code",
   "execution_count": 14,
   "metadata": {},
   "outputs": [
    {
     "name": "stdout",
     "output_type": "stream",
     "text": [
      "5.572572373999996\n"
     ]
    },
    {
     "data": {
      "text/plain": [
       "['276',\n",
       " '1455',\n",
       " '1513',\n",
       " '314',\n",
       " '1652',\n",
       " '1455',\n",
       " '1513',\n",
       " '194',\n",
       " '17',\n",
       " '356',\n",
       " '232',\n",
       " '1635',\n",
       " '1473',\n",
       " '1652',\n",
       " '17',\n",
       " '1635',\n",
       " '349',\n",
       " '125']"
      ]
     },
     "execution_count": 14,
     "metadata": {},
     "output_type": "execute_result"
    }
   ],
   "source": [
    "results, time = NeoQuery(\n",
    "    \"\"\"\n",
    "    MATCH (ord:Airport {iata: 'ATL'})-[:HAS_DEPARTURE]->(fl:Flight)-[:OPERATED_BY]->(al:Airline {iata: 'AA'})\n",
    "    RETURN fl\n",
    "    \"\"\"\n",
    ").query(500)\n",
    "\n",
    "print(time)\n",
    "[record['fl']['flight_number'] for record in results]"
   ]
  },
  {
   "cell_type": "code",
   "execution_count": 15,
   "metadata": {},
   "outputs": [
    {
     "name": "stdout",
     "output_type": "stream",
     "text": [
      "4.744288337999997\n"
     ]
    },
    {
     "data": {
      "text/plain": [
       "['1805',\n",
       " '447',\n",
       " '1095',\n",
       " '461',\n",
       " '2065',\n",
       " '889',\n",
       " '1808',\n",
       " '461',\n",
       " '2052',\n",
       " '2251',\n",
       " '1076',\n",
       " '2133',\n",
       " '1999',\n",
       " '1744',\n",
       " '1808',\n",
       " '658',\n",
       " '1095',\n",
       " '2065',\n",
       " '1441']"
      ]
     },
     "execution_count": 15,
     "metadata": {},
     "output_type": "execute_result"
    }
   ],
   "source": [
    "results, time = NeoQuery(\n",
    "    \"\"\"\n",
    "    MATCH (:Airport {iata: 'ATL'})-[:HAS_DEPARTURE]->(fl:Flight)-[:FLIES_TO]->(ar:Airport {iata: 'CLT'})\n",
    "    RETURN fl\n",
    "    \"\"\"\n",
    ").query(500)\n",
    "\n",
    "print(time)\n",
    "[record['fl']['flight_number'] for record in results]"
   ]
  },
  {
   "cell_type": "markdown",
   "metadata": {},
   "source": [
    "Query for All flights with a specific tail number"
   ]
  },
  {
   "cell_type": "code",
   "execution_count": 16,
   "metadata": {},
   "outputs": [
    {
     "name": "stdout",
     "output_type": "stream",
     "text": [
      "2.806463167000004\n"
     ]
    },
    {
     "data": {
      "text/plain": [
       "[<Record fl=<Node id=494265 labels={'Flight'} properties={'wheels_off': '0729', 'taxi_in': '7', 'distance': '1590', 'year': '2015', 'scheduled_time': '260', 'scheduled_arrival': '0940', 'diverted': '0', 'taxi_out': '11', 'tail_number': 'N129DL', 'elapsed_time': '238', 'air_time': '220', 'airline': 'DL', 'departure_time': '0718', 'day': '2', 'departure_delay': '-2', 'day_of_week': '5', 'arrival_time': '0916', 'wheels_on': '0909', 'flight_number': '331', 'origin_airport': 'ATL', 'destination_airport': 'SLC', 'month': '1', 'cancelled': '0', 'scheduled_departure': '0720', 'arrival_delay': '-24'}>>,\n",
       " <Record fl=<Node id=460081 labels={'Flight'} properties={'wheels_off': '1100', 'taxi_in': '8', 'distance': '2139', 'year': '2015', 'scheduled_time': '330', 'scheduled_arrival': '1310', 'diverted': '0', 'taxi_out': '17', 'tail_number': 'N129DL', 'elapsed_time': '302', 'air_time': '277', 'airline': 'DL', 'departure_time': '1043', 'day': '1', 'departure_delay': '3', 'day_of_week': '4', 'arrival_time': '1245', 'wheels_on': '1237', 'flight_number': '1680', 'origin_airport': 'ATL', 'destination_airport': 'SFO', 'month': '1', 'cancelled': '0', 'scheduled_departure': '1040', 'arrival_delay': '-25'}>>,\n",
       " <Record fl=<Node id=501869 labels={'Flight'} properties={'wheels_off': '1108', 'taxi_in': '7', 'distance': '1590', 'year': '2015', 'scheduled_time': '212', 'scheduled_arrival': '1632', 'diverted': '0', 'taxi_out': '12', 'tail_number': 'N129DL', 'elapsed_time': '202', 'air_time': '183', 'airline': 'DL', 'departure_time': '1056', 'day': '2', 'departure_delay': '-4', 'day_of_week': '5', 'arrival_time': '1618', 'wheels_on': '1611', 'flight_number': '1912', 'origin_airport': 'SLC', 'destination_airport': 'ATL', 'month': '1', 'cancelled': '0', 'scheduled_departure': '1100', 'arrival_delay': '-14'}>>,\n",
       " <Record fl=<Node id=466781 labels={'Flight'} properties={'wheels_off': '1422', 'taxi_in': '7', 'distance': '2139', 'year': '2015', 'scheduled_time': '269', 'scheduled_arrival': '2139', 'diverted': '0', 'taxi_out': '12', 'tail_number': 'N129DL', 'elapsed_time': '258', 'air_time': '239', 'airline': 'DL', 'departure_time': '1410', 'day': '1', 'departure_delay': '0', 'day_of_week': '4', 'arrival_time': '2128', 'wheels_on': '2121', 'flight_number': '61', 'origin_airport': 'SFO', 'destination_airport': 'ATL', 'month': '1', 'cancelled': '0', 'scheduled_departure': '1410', 'arrival_delay': '-11'}>>]"
      ]
     },
     "execution_count": 16,
     "metadata": {},
     "output_type": "execute_result"
    }
   ],
   "source": [
    "results, time = NeoQuery(\n",
    "    \"\"\"\n",
    "    MATCH (ar:Airport)-[:HAS_DEPARTURE]->(fl:Flight)-[:USES]->(tl:Tail {number: 'N129DL'})\n",
    "    RETURN distinct fl\n",
    "    \"\"\"\n",
    ").query(200)\n",
    "\n",
    "print(time)\n",
    "[record for record in results]"
   ]
  },
  {
   "cell_type": "markdown",
   "metadata": {},
   "source": [
    "Query for all flights with specific tail number, but this query is slower"
   ]
  },
  {
   "cell_type": "code",
   "execution_count": 17,
   "metadata": {},
   "outputs": [
    {
     "name": "stdout",
     "output_type": "stream",
     "text": [
      "6.876133699999997\n"
     ]
    },
    {
     "data": {
      "text/plain": [
       "[<Record fl=<Node id=460081 labels={'Flight'} properties={'wheels_off': '1100', 'taxi_in': '8', 'distance': '2139', 'year': '2015', 'scheduled_time': '330', 'scheduled_arrival': '1310', 'diverted': '0', 'taxi_out': '17', 'tail_number': 'N129DL', 'elapsed_time': '302', 'air_time': '277', 'airline': 'DL', 'departure_time': '1043', 'day': '1', 'departure_delay': '3', 'day_of_week': '4', 'arrival_time': '1245', 'wheels_on': '1237', 'flight_number': '1680', 'origin_airport': 'ATL', 'destination_airport': 'SFO', 'month': '1', 'cancelled': '0', 'scheduled_departure': '1040', 'arrival_delay': '-25'}>>,\n",
       " <Record fl=<Node id=494265 labels={'Flight'} properties={'wheels_off': '0729', 'taxi_in': '7', 'distance': '1590', 'year': '2015', 'scheduled_time': '260', 'scheduled_arrival': '0940', 'diverted': '0', 'taxi_out': '11', 'tail_number': 'N129DL', 'elapsed_time': '238', 'air_time': '220', 'airline': 'DL', 'departure_time': '0718', 'day': '2', 'departure_delay': '-2', 'day_of_week': '5', 'arrival_time': '0916', 'wheels_on': '0909', 'flight_number': '331', 'origin_airport': 'ATL', 'destination_airport': 'SLC', 'month': '1', 'cancelled': '0', 'scheduled_departure': '0720', 'arrival_delay': '-24'}>>,\n",
       " <Record fl=<Node id=466781 labels={'Flight'} properties={'wheels_off': '1422', 'taxi_in': '7', 'distance': '2139', 'year': '2015', 'scheduled_time': '269', 'scheduled_arrival': '2139', 'diverted': '0', 'taxi_out': '12', 'tail_number': 'N129DL', 'elapsed_time': '258', 'air_time': '239', 'airline': 'DL', 'departure_time': '1410', 'day': '1', 'departure_delay': '0', 'day_of_week': '4', 'arrival_time': '2128', 'wheels_on': '2121', 'flight_number': '61', 'origin_airport': 'SFO', 'destination_airport': 'ATL', 'month': '1', 'cancelled': '0', 'scheduled_departure': '1410', 'arrival_delay': '-11'}>>,\n",
       " <Record fl=<Node id=501869 labels={'Flight'} properties={'wheels_off': '1108', 'taxi_in': '7', 'distance': '1590', 'year': '2015', 'scheduled_time': '212', 'scheduled_arrival': '1632', 'diverted': '0', 'taxi_out': '12', 'tail_number': 'N129DL', 'elapsed_time': '202', 'air_time': '183', 'airline': 'DL', 'departure_time': '1056', 'day': '2', 'departure_delay': '-4', 'day_of_week': '5', 'arrival_time': '1618', 'wheels_on': '1611', 'flight_number': '1912', 'origin_airport': 'SLC', 'destination_airport': 'ATL', 'month': '1', 'cancelled': '0', 'scheduled_departure': '1100', 'arrival_delay': '-14'}>>]"
      ]
     },
     "execution_count": 17,
     "metadata": {},
     "output_type": "execute_result"
    }
   ],
   "source": [
    "results, time = NeoQuery(\n",
    "    \"\"\"\n",
    "    MATCH (ar:Airport)-[:HAS_DEPARTURE]->(fl:Flight {tail_number: 'N129DL'})\n",
    "    RETURN fl\n",
    "    \"\"\"\n",
    ").query(200)\n",
    "\n",
    "print(time)\n",
    "[record for record in results]"
   ]
  },
  {
   "cell_type": "code",
   "execution_count": null,
   "metadata": {},
   "outputs": [],
   "source": []
  },
  {
   "cell_type": "code",
   "execution_count": null,
   "metadata": {},
   "outputs": [],
   "source": []
  }
 ],
 "metadata": {
  "kernelspec": {
   "display_name": "Python 3",
   "language": "python",
   "name": "python3"
  },
  "language_info": {
   "codemirror_mode": {
    "name": "ipython",
    "version": 3
   },
   "file_extension": ".py",
   "mimetype": "text/x-python",
   "name": "python",
   "nbconvert_exporter": "python",
   "pygments_lexer": "ipython3",
   "version": "3.7.4"
  }
 },
 "nbformat": 4,
 "nbformat_minor": 2
}
