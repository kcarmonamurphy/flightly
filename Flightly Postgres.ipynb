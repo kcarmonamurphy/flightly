{
 "cells": [
  {
   "cell_type": "code",
   "execution_count": 4,
   "metadata": {
    "scrolled": true
   },
   "outputs": [],
   "source": [
    "tmp = !pwd\n",
    "current_path = tmp[0]\n",
    "\n",
    "import psycopg2\n",
    "from psycopg2 import Error\n",
    "import timeit\n",
    "\n",
    "conn = ('kevin', '', '127.0.0.1', '5432', 'flightly')\n",
    "\n",
    "class PostgresQuery(object):\n",
    "    def __init__(self, query):\n",
    "        user, password, host, port, database = conn\n",
    "        self._query = query\n",
    "        try:\n",
    "            self._connection = psycopg2.connect(\n",
    "                user = user,\n",
    "                password = password,\n",
    "                host = host,\n",
    "                port = port,\n",
    "                database = database\n",
    "            )\n",
    "            self._cursor = self._connection.cursor()\n",
    "        except:\n",
    "            print(\"Failed to connect to PostgreSQL DB\")\n",
    "\n",
    "    def query(self, times=1):\n",
    "        try:\n",
    "            results = self._run_sql()\n",
    "            time = timeit.timeit(self._run_sql, number=times)\n",
    "            self._connection.commit()\n",
    "            return results, time\n",
    "        except (Exception, psycopg2.DatabaseError) as error :\n",
    "            print (\"Error while executing SQL command\", error)\n",
    "        finally:\n",
    "            self._cursor.close()\n",
    "            self._connection.close()\n",
    "    \n",
    "    def _run_sql(self):\n",
    "        self._cursor.execute(self._query)\n",
    "        return self._cursor.fetchall()"
   ]
  },
  {
   "cell_type": "code",
   "execution_count": 5,
   "metadata": {},
   "outputs": [],
   "source": [
    "init_queries = {\n",
    "    'drop_all_tables': \"\"\"\n",
    "        DROP SCHEMA public CASCADE;\n",
    "        CREATE SCHEMA public;\n",
    "        \"\"\",\n",
    "    'create_airlines_table': \"\"\"\n",
    "        CREATE TABLE airlines (IATA TEXT PRIMARY KEY NOT NULL,\n",
    "          NAME TEXT);\n",
    "        \"\"\",\n",
    "    'create_airports_table': \"\"\"\n",
    "        CREATE TABLE airports (IATA TEXT PRIMARY KEY NOT NULL,\n",
    "          NAME TEXT,\n",
    "          CITY TEXT,\n",
    "          STATE TEXT,\n",
    "          COUNTRY TEXT,\n",
    "          LATITUDE TEXT,\n",
    "          LONGITUDE TEXT\n",
    "          );\n",
    "        \"\"\",\n",
    "    'create_flights_table': \"\"\"\n",
    "        CREATE TABLE flights\n",
    "        (\n",
    "            year text,\n",
    "            month text,\n",
    "            day text,\n",
    "            day_of_week text,\n",
    "            airline text,\n",
    "            flight_number text,\n",
    "            tail_number text,\n",
    "            origin_airport text,\n",
    "            destination_airport text,\n",
    "            scheduled_departure text,\n",
    "            departure_time text,\n",
    "            departure_delay text,\n",
    "            taxi_out text,\n",
    "            wheels_off text,\n",
    "            scheduled_time text,\n",
    "            elapsed_time text,\n",
    "            air_time text,\n",
    "            distance text,\n",
    "            wheels_on text,\n",
    "            taxi_in text,\n",
    "            scheduled_arrival text,\n",
    "            arrival_time text,\n",
    "            arrival_delay text,\n",
    "            diverted text,\n",
    "            cancelled text,\n",
    "            cancellation_reason text,\n",
    "            air_system_delay text,\n",
    "            security_delay text,\n",
    "            airline_delay text,\n",
    "            late_aircraft_delay text,\n",
    "            weather_delay text\n",
    "        )\n",
    "        \"\"\",\n",
    "    'load_airlines_csv': f\"\"\"\n",
    "        COPY airlines\n",
    "        FROM '{current_path}/csv/airlines.csv' DELIMITER ',' HEADER CSV;\n",
    "        \"\"\",\n",
    "    'load_airports_csv': f\"\"\"\n",
    "        COPY airports\n",
    "        FROM '{current_path}/csv/airports.csv' DELIMITER ',' HEADER CSV;\n",
    "        \"\"\",\n",
    "    'load_flights_csv': f\"\"\"\n",
    "        COPY flights\n",
    "        FROM '{current_path}/csv/flights_reduced.csv' DELIMITER ',' HEADER CSV;\n",
    "        \"\"\"\n",
    "}\n",
    "\n",
    "for query in init_queries.items():\n",
    "    PostgresQuery(query[1])"
   ]
  },
  {
   "cell_type": "code",
   "execution_count": 7,
   "metadata": {
    "scrolled": true
   },
   "outputs": [
    {
     "data": {
      "text/plain": [
       "0.719740741999999"
      ]
     },
     "execution_count": 7,
     "metadata": {},
     "output_type": "execute_result"
    }
   ],
   "source": [
    "query, time = PostgresQuery(\"SELECT tail_number from flights where origin_airport = 'ATL' and airline = 'AA'\").query(200)\n",
    "time"
   ]
  },
  {
   "cell_type": "code",
   "execution_count": null,
   "metadata": {},
   "outputs": [],
   "source": []
  }
 ],
 "metadata": {
  "kernelspec": {
   "display_name": "Python 3",
   "language": "python",
   "name": "python3"
  },
  "language_info": {
   "codemirror_mode": {
    "name": "ipython",
    "version": 3
   },
   "file_extension": ".py",
   "mimetype": "text/x-python",
   "name": "python",
   "nbconvert_exporter": "python",
   "pygments_lexer": "ipython3",
   "version": "3.7.4"
  }
 },
 "nbformat": 4,
 "nbformat_minor": 2
}
