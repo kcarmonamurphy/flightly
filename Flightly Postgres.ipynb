{
 "cells": [
  {
   "cell_type": "code",
   "execution_count": 86,
   "metadata": {},
   "outputs": [],
   "source": [
    "LINE_LIMIT = 10000"
   ]
  },
  {
   "cell_type": "code",
   "execution_count": 90,
   "metadata": {
    "scrolled": true
   },
   "outputs": [],
   "source": [
    "tmp = !pwd\n",
    "current_path = tmp[0]\n",
    "\n",
    "import psycopg2\n",
    "from psycopg2 import Error\n",
    "import timeit\n",
    "\n",
    "conn = ('kevin', '', '127.0.0.1', '5432', 'flightly')\n",
    "\n",
    "class PostgresQuery(object):\n",
    "    def __init__(self, query):\n",
    "        user, password, host, port, database = conn\n",
    "        self._query = query\n",
    "        try:\n",
    "            self._connection = psycopg2.connect(\n",
    "                user = user,\n",
    "                password = password,\n",
    "                host = host,\n",
    "                port = port,\n",
    "                database = database\n",
    "            )\n",
    "            self._cursor = self._connection.cursor()\n",
    "        except:\n",
    "            print(\"Failed to connect to PostgreSQL DB\")\n",
    "\n",
    "    def query(self, times=1):\n",
    "        try:\n",
    "            results = self._run_sql()\n",
    "            time = timeit.timeit(self._run_sql, number=times)\n",
    "            self._connection.commit()\n",
    "            return results, time\n",
    "        except (Exception, psycopg2.DatabaseError) as error :\n",
    "            print (\"Error while executing SQL command\", error)\n",
    "        finally:\n",
    "            self._cursor.close()\n",
    "            self._connection.close()\n",
    "    \n",
    "    def _run_sql(self):      \n",
    "        self._cursor.execute(self._query)\n",
    "        try:\n",
    "            return self._cursor.fetchall()\n",
    "        except:\n",
    "            return []"
   ]
  },
  {
   "cell_type": "code",
   "execution_count": 102,
   "metadata": {},
   "outputs": [],
   "source": [
    "init_queries = {\n",
    "    'drop_all_tables': \"\"\"\n",
    "        DROP SCHEMA public CASCADE;\n",
    "        CREATE SCHEMA public;\n",
    "        \n",
    "        GRANT ALL ON SCHEMA public TO postgres;\n",
    "        GRANT ALL ON SCHEMA public TO public;\n",
    "        \"\"\",\n",
    "    'create_airlines_table': \"\"\"\n",
    "        CREATE TABLE IF NOT EXISTS airlines (\n",
    "          iata text,\n",
    "          name text);\n",
    "        \"\"\",\n",
    "    'create_airports_table': \"\"\"\n",
    "        CREATE TABLE IF NOT EXISTS airports (\n",
    "          iata text,\n",
    "          name text,\n",
    "          city text,\n",
    "          state text,\n",
    "          country text,\n",
    "          latitude text,\n",
    "          longitude text\n",
    "          );\n",
    "        \"\"\",\n",
    "    'create_flights_table': \"\"\"\n",
    "        CREATE TABLE IF NOT EXISTS flights (\n",
    "            year text,\n",
    "            month text,\n",
    "            day text,\n",
    "            day_of_week text,\n",
    "            airline text,\n",
    "            flight_number text,\n",
    "            tail_number text,\n",
    "            origin_airport text,\n",
    "            destination_airport text,\n",
    "            scheduled_departure text,\n",
    "            departure_time text,\n",
    "            departure_delay text,\n",
    "            taxi_out text,\n",
    "            wheels_off text,\n",
    "            scheduled_time text,\n",
    "            elapsed_time text,\n",
    "            air_time text,\n",
    "            distance text,\n",
    "            wheels_on text,\n",
    "            taxi_in text,\n",
    "            scheduled_arrival text,\n",
    "            arrival_time text,\n",
    "            arrival_delay text,\n",
    "            diverted text,\n",
    "            cancelled text,\n",
    "            cancellation_reason text,\n",
    "            air_system_delay text,\n",
    "            security_delay text,\n",
    "            airline_delay text,\n",
    "            late_aircraft_delay text,\n",
    "            weather_delay text\n",
    "        );\n",
    "        \"\"\",\n",
    "    'load_airlines_csv': f\"\"\"\n",
    "        COPY airlines\n",
    "        FROM '{current_path}/csv/airlines.csv' DELIMITER ',' HEADER CSV;\n",
    "        \"\"\",\n",
    "    'load_airports_csv': f\"\"\"\n",
    "        COPY airports\n",
    "        FROM '{current_path}/csv/airports.csv' DELIMITER ',' HEADER CSV;\n",
    "        \"\"\",\n",
    "    'load_flights_csv': f\"\"\"\n",
    "        COPY flights\n",
    "        FROM PROGRAM 'head -{LINE_LIMIT} {current_path}/csv/flights.csv' DELIMITER ',' HEADER CSV;\n",
    "        \"\"\"\n",
    "}\n",
    "\n",
    "for query in init_queries.items():\n",
    "    PostgresQuery(query[1]).query(0)"
   ]
  },
  {
   "cell_type": "code",
   "execution_count": null,
   "metadata": {},
   "outputs": [],
   "source": []
  },
  {
   "cell_type": "code",
   "execution_count": 103,
   "metadata": {
    "scrolled": true
   },
   "outputs": [
    {
     "data": {
      "text/plain": [
       "0.7718273100017541"
      ]
     },
     "execution_count": 103,
     "metadata": {},
     "output_type": "execute_result"
    }
   ],
   "source": [
    "query, time = PostgresQuery(\"SELECT tail_number from flights where origin_airport = 'ATL' and airline = 'AA'\").query(200)\n",
    "time"
   ]
  },
  {
   "cell_type": "code",
   "execution_count": 106,
   "metadata": {},
   "outputs": [
    {
     "name": "stdout",
     "output_type": "stream",
     "text": [
      "0.6763240820000647\n"
     ]
    },
    {
     "data": {
      "text/plain": [
       "[('2015',\n",
       "  '1',\n",
       "  '1',\n",
       "  '4',\n",
       "  'DL',\n",
       "  '1680',\n",
       "  'N129DL',\n",
       "  'ATL',\n",
       "  'SFO',\n",
       "  '1040',\n",
       "  '1043',\n",
       "  '3',\n",
       "  '17',\n",
       "  '1100',\n",
       "  '330',\n",
       "  '302',\n",
       "  '277',\n",
       "  '2139',\n",
       "  '1237',\n",
       "  '8',\n",
       "  '1310',\n",
       "  '1245',\n",
       "  '-25',\n",
       "  '0',\n",
       "  '0',\n",
       "  None,\n",
       "  None,\n",
       "  None,\n",
       "  None,\n",
       "  None,\n",
       "  None),\n",
       " ('2015',\n",
       "  '1',\n",
       "  '1',\n",
       "  '4',\n",
       "  'DL',\n",
       "  '61',\n",
       "  'N129DL',\n",
       "  'SFO',\n",
       "  'ATL',\n",
       "  '1410',\n",
       "  '1410',\n",
       "  '0',\n",
       "  '12',\n",
       "  '1422',\n",
       "  '269',\n",
       "  '258',\n",
       "  '239',\n",
       "  '2139',\n",
       "  '2121',\n",
       "  '7',\n",
       "  '2139',\n",
       "  '2128',\n",
       "  '-11',\n",
       "  '0',\n",
       "  '0',\n",
       "  None,\n",
       "  None,\n",
       "  None,\n",
       "  None,\n",
       "  None,\n",
       "  None)]"
      ]
     },
     "execution_count": 106,
     "metadata": {},
     "output_type": "execute_result"
    }
   ],
   "source": [
    "results, time = PostgresQuery(\"SELECT * from flights where tail_number = 'N129DL'\").query(200)\n",
    "\n",
    "print(time)\n",
    "[record for record in results]"
   ]
  },
  {
   "cell_type": "code",
   "execution_count": null,
   "metadata": {},
   "outputs": [],
   "source": []
  }
 ],
 "metadata": {
  "kernelspec": {
   "display_name": "Python 3",
   "language": "python",
   "name": "python3"
  },
  "language_info": {
   "codemirror_mode": {
    "name": "ipython",
    "version": 3
   },
   "file_extension": ".py",
   "mimetype": "text/x-python",
   "name": "python",
   "nbconvert_exporter": "python",
   "pygments_lexer": "ipython3",
   "version": "3.7.4"
  }
 },
 "nbformat": 4,
 "nbformat_minor": 2
}
