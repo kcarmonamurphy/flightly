{
 "cells": [
  {
   "cell_type": "markdown",
   "metadata": {},
   "source": [
    "# Flightly\n",
    "\n",
    "Modelling 2015 US commercial airline flight queries using SQL and Neo4j"
   ]
  },
  {
   "cell_type": "markdown",
   "metadata": {},
   "source": [
    "### Setup Neo4j Query Object Wrapper\n",
    "This object will allow us to receive the result of the query and also measure the time it takes for X number of queries to be completed."
   ]
  },
  {
   "cell_type": "code",
   "execution_count": 85,
   "metadata": {},
   "outputs": [],
   "source": [
    "LINE_LIMIT = 10000"
   ]
  },
  {
   "cell_type": "code",
   "execution_count": 86,
   "metadata": {},
   "outputs": [],
   "source": [
    "from neo4j import GraphDatabase\n",
    "import timeit\n",
    "\n",
    "conn = ('bolt://localhost:7687', 'neo4j', 'password')\n",
    "\n",
    "class NeoQuery(object):\n",
    "    def __init__(self, query):\n",
    "        url, user, password = conn\n",
    "        self._driver = GraphDatabase.driver(url, auth=(user, password))\n",
    "        self._query = query\n",
    "\n",
    "    def close(self):\n",
    "        self._driver.close()\n",
    "        \n",
    "    def query(self, times=1):\n",
    "        results = self._run_cypher()\n",
    "        time = timeit.timeit(self._run_cypher, number=times)\n",
    "        self.close()\n",
    "        return results, time\n",
    "        \n",
    "    def _run_cypher(self):\n",
    "        with self._driver.session() as session:\n",
    "            return session.run(self._query)"
   ]
  },
  {
   "cell_type": "markdown",
   "metadata": {},
   "source": [
    "### Setup queries\n",
    "Delete all of the existing nodes and relationships to start with clean slate.\n",
    "Then, load all the csv files into the DB"
   ]
  },
  {
   "cell_type": "code",
   "execution_count": 89,
   "metadata": {},
   "outputs": [],
   "source": [
    "init_queries = {\n",
    "    'delete_all': \"\"\"\n",
    "                   MATCH (n)\n",
    "                   DETACH DELETE n\n",
    "                   \"\"\",\n",
    "    'load_airlines': \"\"\"\n",
    "            LOAD CSV FROM 'file:///flightly/airlines.csv' AS line\n",
    "            CREATE (:Airline { name: line[1], iata: line[0]})\n",
    "            \"\"\",\n",
    "    'load_airports': \"\"\"\n",
    "            LOAD CSV FROM 'file:///flightly/airports.csv' AS line\n",
    "            CREATE (:Airport { name: line[1], iata: line[0], city: line[2], state: line[3], country: line[4], latitude: line[5], longitude: line[6]})\n",
    "            \"\"\",\n",
    "    'load_flights': f\"\"\"\n",
    "            USING PERIODIC COMMIT 1000\n",
    "            LOAD CSV FROM 'file:///flightly/flights.csv' AS line\n",
    "            WITH line LIMIT {LINE_LIMIT}\n",
    "            CREATE (:Flight {{ \n",
    "                year: line[0],\n",
    "                month: line[1],\n",
    "                day: line[2],\n",
    "                day_of_week: line[3],\n",
    "                airline: line[4],\n",
    "                flight_number: line[5],\n",
    "                tail_number: line[6],\n",
    "                origin_airport: line[7],\n",
    "                destination_airport: line[8],\n",
    "                scheduled_departure: line[9],\n",
    "                departure_time: line[10],\n",
    "                departure_delay: line[11],\n",
    "                taxi_out: line[12],\n",
    "                wheels_off: line[13],\n",
    "                scheduled_time: line[14],\n",
    "                elapsed_time: line[15],\n",
    "                air_time: line[16],\n",
    "                distance: line[17],\n",
    "                wheels_on: line[18],\n",
    "                taxi_in: line[19],\n",
    "                scheduled_arrival: line[20],\n",
    "                arrival_time: line[21],\n",
    "                arrival_delay: line[22],\n",
    "                diverted: line[23],\n",
    "                cancelled: line[24],\n",
    "                cancellation_reason: line[25],\n",
    "                air_system_delay: line[26],\n",
    "                security_delay: line[27],\n",
    "                airline_delay: line[28],\n",
    "                late_aircraft_delay: line[29],\n",
    "                weather_delay: line[30]\n",
    "            }})\n",
    "            CREATE (:Tail {{\n",
    "                number: line[6]\n",
    "            }})\n",
    "            \"\"\"\n",
    "}\n",
    "\n",
    "for query in init_queries.items():\n",
    "    NeoQuery(query[1]).query(0)"
   ]
  },
  {
   "cell_type": "markdown",
   "metadata": {},
   "source": [
    "### Match queries\n",
    "Create the relationships that..."
   ]
  },
  {
   "cell_type": "code",
   "execution_count": 90,
   "metadata": {},
   "outputs": [],
   "source": [
    "match_queries = {\n",
    "    'match_origin_airport': \"\"\"\n",
    "            MATCH (fl:Flight),(ap:Airport)\n",
    "            WHERE fl.origin_airport = ap.iata\n",
    "            CREATE (ap)-[r:HAS_DEPARTURE]->(fl)\n",
    "            RETURN type(r)\n",
    "            \"\"\",\n",
    "        \n",
    "    'match_destination_airport': \"\"\"\n",
    "            MATCH (fl:Flight),(ap:Airport)\n",
    "            WHERE fl.destination_airport = ap.iata\n",
    "            CREATE (fl)-[:FLIES_TO]->(ap)\n",
    "            \"\"\",\n",
    "    'match_airline': \"\"\"\n",
    "            MATCH (fl:Flight),(al:Airline)\n",
    "            WHERE fl.airline = al.iata\n",
    "            CREATE (fl)-[:OPERATED_BY]->(al)\n",
    "            \"\"\",\n",
    "    'match_tail': \"\"\"\n",
    "            MATCH (fl:Flight),(tl:Tail)\n",
    "            WHERE fl.tail_number = tl.number\n",
    "            CREATE (fl)-[:USES]->(tl)\n",
    "            \"\"\"\n",
    "}\n",
    "\n",
    "for query in match_queries.items():\n",
    "    NeoQuery(query[1]).query(0)"
   ]
  },
  {
   "cell_type": "code",
   "execution_count": 91,
   "metadata": {},
   "outputs": [
    {
     "name": "stdout",
     "output_type": "stream",
     "text": [
      "1.231178969001121\n"
     ]
    },
    {
     "data": {
      "text/plain": [
       "[<Node id=469042 labels={'Flight'} properties={'wheels_off': '1548', 'taxi_in': '12', 'distance': '731', 'year': '2015', 'scheduled_time': '145', 'scheduled_arrival': '1650', 'diverted': '0', 'taxi_out': '14', 'tail_number': 'N025AA', 'elapsed_time': '149', 'air_time': '123', 'airline': 'AA', 'departure_time': '1534', 'day': '1', 'departure_delay': '9', 'day_of_week': '4', 'arrival_time': '1703', 'wheels_on': '1651', 'flight_number': '194', 'origin_airport': 'ATL', 'destination_airport': 'DFW', 'month': '1', 'cancelled': '0', 'scheduled_departure': '1525', 'arrival_delay': '13'}>,\n",
       " <Node id=462442 labels={'Flight'} properties={'wheels_off': '1226', 'taxi_in': '16', 'distance': '731', 'year': '2015', 'scheduled_time': '150', 'scheduled_arrival': '1325', 'diverted': '0', 'taxi_out': '16', 'tail_number': 'N585AA', 'elapsed_time': '149', 'air_time': '117', 'airline': 'AA', 'departure_time': '1210', 'day': '1', 'departure_delay': '15', 'day_of_week': '4', 'arrival_time': '1339', 'wheels_on': '1323', 'flight_number': '314', 'origin_airport': 'ATL', 'destination_airport': 'DFW', 'month': '1', 'cancelled': '0', 'scheduled_departure': '1155', 'arrival_delay': '14'}>,\n",
       " <Node id=453962 labels={'Flight'} properties={'wheels_off': '0711', 'taxi_in': '9', 'distance': '594', 'year': '2015', 'scheduled_time': '112', 'scheduled_arrival': '0852', 'diverted': '0', 'taxi_out': '15', 'tail_number': 'N019AA', 'elapsed_time': '106', 'air_time': '82', 'airline': 'AA', 'departure_time': '0656', 'day': '1', 'departure_delay': '-4', 'day_of_week': '4', 'arrival_time': '0842', 'wheels_on': '0833', 'flight_number': '17', 'origin_airport': 'ATL', 'destination_airport': 'MIA', 'month': '1', 'cancelled': '0', 'scheduled_departure': '0700', 'arrival_delay': '-10'}>,\n",
       " <Node id=453346 labels={'Flight'} properties={'distance': '731', 'year': '2015', 'flight_number': '1635', 'cancellation_reason': 'B', 'scheduled_time': '150', 'origin_airport': 'ATL', 'destination_airport': 'DFW', 'scheduled_arrival': '0755', 'diverted': '0', 'month': '1', 'tail_number': 'N025AA', 'cancelled': '1', 'scheduled_departure': '0625', 'airline': 'AA', 'day': '1', 'day_of_week': '4'}>,\n",
       " <Node id=471439 labels={'Flight'} properties={'wheels_off': '1650', 'taxi_in': '14', 'distance': '731', 'year': '2015', 'scheduled_time': '145', 'scheduled_arrival': '1805', 'diverted': '0', 'taxi_out': '15', 'tail_number': 'N006AA', 'elapsed_time': '151', 'air_time': '122', 'airline': 'AA', 'departure_time': '1635', 'day': '1', 'departure_delay': '-5', 'day_of_week': '4', 'arrival_time': '1806', 'wheels_on': '1752', 'flight_number': '356', 'origin_airport': 'ATL', 'destination_airport': 'DFW', 'month': '1', 'cancelled': '0', 'scheduled_departure': '1640', 'arrival_delay': '1'}>,\n",
       " <Node id=465932 labels={'Flight'} properties={'wheels_off': '1417', 'taxi_in': '12', 'distance': '731', 'year': '2015', 'airline_delay': '3', 'scheduled_time': '150', 'scheduled_arrival': '1515', 'diverted': '0', 'taxi_out': '17', 'tail_number': 'N575AA', 'elapsed_time': '151', 'air_time': '122', 'weather_delay': '0', 'airline': 'AA', 'day': '1', 'departure_time': '1400', 'departure_delay': '15', 'day_of_week': '4', 'arrival_time': '1531', 'wheels_on': '1519', 'flight_number': '1473', 'origin_airport': 'ATL', 'destination_airport': 'DFW', 'late_aircraft_delay': '12', 'month': '1', 'cancelled': '0', 'scheduled_departure': '1345', 'security_delay': '0', 'arrival_delay': '16', 'air_system_delay': '1'}>,\n",
       " <Node id=460210 labels={'Flight'} properties={'wheels_off': '1056', 'taxi_in': '17', 'distance': '731', 'year': '2015', 'scheduled_time': '150', 'scheduled_arrival': '1215', 'diverted': '0', 'taxi_out': '13', 'tail_number': 'N008AA', 'elapsed_time': '145', 'air_time': '115', 'airline': 'AA', 'departure_time': '1043', 'day': '1', 'departure_delay': '-2', 'day_of_week': '4', 'arrival_time': '1208', 'wheels_on': '1151', 'flight_number': '1513', 'origin_airport': 'ATL', 'destination_airport': 'DFW', 'month': '1', 'cancelled': '0', 'scheduled_departure': '1045', 'arrival_delay': '-7'}>,\n",
       " <Node id=456992 labels={'Flight'} properties={'wheels_off': '0904', 'taxi_in': '16', 'distance': '731', 'year': '2015', 'scheduled_time': '150', 'scheduled_arrival': '1025', 'diverted': '0', 'taxi_out': '13', 'tail_number': 'N012AA', 'elapsed_time': '140', 'air_time': '111', 'airline': 'AA', 'departure_time': '0851', 'day': '1', 'departure_delay': '-4', 'day_of_week': '4', 'arrival_time': '1011', 'wheels_on': '0955', 'flight_number': '1455', 'origin_airport': 'ATL', 'destination_airport': 'DFW', 'month': '1', 'cancelled': '0', 'scheduled_departure': '0855', 'arrival_delay': '-14'}>,\n",
       " <Node id=455952 labels={'Flight'} properties={'wheels_off': '0817', 'taxi_in': '5', 'distance': '594', 'year': '2015', 'scheduled_time': '117', 'scheduled_arrival': '1012', 'diverted': '0', 'taxi_out': '11', 'tail_number': 'N015AA', 'elapsed_time': '97', 'air_time': '81', 'airline': 'AA', 'departure_time': '0806', 'day': '1', 'departure_delay': '-9', 'day_of_week': '4', 'arrival_time': '0943', 'wheels_on': '0938', 'flight_number': '1652', 'origin_airport': 'ATL', 'destination_airport': 'MIA', 'month': '1', 'cancelled': '0', 'scheduled_departure': '0815', 'arrival_delay': '-29'}>]"
      ]
     },
     "execution_count": 91,
     "metadata": {},
     "output_type": "execute_result"
    }
   ],
   "source": [
    "results, time = NeoQuery(\n",
    "    \"\"\"\n",
    "    MATCH (ord:Airport {iata: 'ATL'})-[:HAS_DEPARTURE]->(fl:Flight)-[:OPERATED_BY]->(al:Airline {iata: 'AA'})\n",
    "    RETURN ord, fl\n",
    "    \"\"\"\n",
    ").query(200)\n",
    "\n",
    "print(time)\n",
    "[record['fl'] for record in results]"
   ]
  },
  {
   "cell_type": "code",
   "execution_count": 92,
   "metadata": {},
   "outputs": [
    {
     "name": "stdout",
     "output_type": "stream",
     "text": [
      "0.0035252979996585054\n"
     ]
    },
    {
     "data": {
      "text/plain": [
       "[<Record fl=<Node id=470873 labels={'Flight'} properties={'wheels_off': '1636', 'taxi_in': '6', 'distance': '226', 'year': '2015', 'scheduled_time': '74', 'scheduled_arrival': '1734', 'diverted': '0', 'taxi_out': '16', 'tail_number': 'N355NB', 'elapsed_time': '61', 'air_time': '39', 'airline': 'DL', 'departure_time': '1620', 'day': '1', 'departure_delay': '0', 'day_of_week': '4', 'arrival_time': '1721', 'wheels_on': '1715', 'flight_number': '1441', 'origin_airport': 'ATL', 'destination_airport': 'CLT', 'month': '1', 'cancelled': '0', 'scheduled_departure': '1620', 'arrival_delay': '-13'}>>,\n",
       " <Record fl=<Node id=460014 labels={'Flight'} properties={'wheels_off': '1049', 'taxi_in': '13', 'distance': '226', 'year': '2015', 'scheduled_time': '75', 'scheduled_arrival': '1155', 'diverted': '0', 'taxi_out': '13', 'tail_number': 'N549UW', 'elapsed_time': '66', 'air_time': '40', 'airline': 'US', 'departure_time': '1036', 'day': '1', 'departure_delay': '-4', 'day_of_week': '4', 'arrival_time': '1142', 'wheels_on': '1129', 'flight_number': '1808', 'origin_airport': 'ATL', 'destination_airport': 'CLT', 'month': '1', 'cancelled': '0', 'scheduled_departure': '1040', 'arrival_delay': '-13'}>>,\n",
       " <Record fl=<Node id=456824 labels={'Flight'} properties={'wheels_off': '0903', 'taxi_in': '14', 'distance': '226', 'year': '2015', 'scheduled_time': '77', 'scheduled_arrival': '1007', 'diverted': '0', 'taxi_out': '17', 'tail_number': 'N541UW', 'elapsed_time': '68', 'air_time': '37', 'airline': 'US', 'departure_time': '0846', 'day': '1', 'departure_delay': '-4', 'day_of_week': '4', 'arrival_time': '0954', 'wheels_on': '0940', 'flight_number': '2065', 'origin_airport': 'ATL', 'destination_airport': 'CLT', 'month': '1', 'cancelled': '0', 'scheduled_departure': '0850', 'arrival_delay': '-13'}>>,\n",
       " <Record fl=<Node id=466208 labels={'Flight'} properties={'wheels_off': '1503', 'taxi_in': '3', 'distance': '226', 'year': '2015', 'airline_delay': '4', 'scheduled_time': '69', 'scheduled_arrival': '1504', 'diverted': '0', 'taxi_out': '11', 'tail_number': 'N117UW', 'elapsed_time': '53', 'air_time': '39', 'weather_delay': '0', 'airline': 'US', 'day': '1', 'departure_time': '1452', 'departure_delay': '57', 'day_of_week': '4', 'arrival_time': '1545', 'wheels_on': '1542', 'flight_number': '1999', 'origin_airport': 'ATL', 'destination_airport': 'CLT', 'late_aircraft_delay': '37', 'month': '1', 'cancelled': '0', 'scheduled_departure': '1355', 'security_delay': '0', 'arrival_delay': '41', 'air_system_delay': '0'}>>,\n",
       " <Record fl=<Node id=469152 labels={'Flight'} properties={'wheels_off': '1552', 'taxi_in': '8', 'distance': '226', 'year': '2015', 'scheduled_time': '74', 'scheduled_arrival': '1644', 'diverted': '0', 'taxi_out': '19', 'tail_number': 'N123UW', 'elapsed_time': '70', 'air_time': '43', 'airline': 'US', 'departure_time': '1533', 'day': '1', 'departure_delay': '3', 'day_of_week': '4', 'arrival_time': '1643', 'wheels_on': '1635', 'flight_number': '889', 'origin_airport': 'ATL', 'destination_airport': 'CLT', 'month': '1', 'cancelled': '0', 'scheduled_departure': '1530', 'arrival_delay': '-1'}>>,\n",
       " <Record fl=<Node id=465956 labels={'Flight'} properties={'wheels_off': '1417', 'taxi_in': '9', 'distance': '226', 'year': '2015', 'scheduled_time': '69', 'scheduled_arrival': '1454', 'diverted': '0', 'taxi_out': '14', 'tail_number': 'N322US', 'elapsed_time': '65', 'air_time': '42', 'airline': 'DL', 'departure_time': '1403', 'day': '1', 'departure_delay': '18', 'day_of_week': '4', 'arrival_time': '1508', 'wheels_on': '1459', 'flight_number': '2133', 'origin_airport': 'ATL', 'destination_airport': 'CLT', 'month': '1', 'cancelled': '0', 'scheduled_departure': '1345', 'arrival_delay': '14'}>>,\n",
       " <Record fl=<Node id=453952 labels={'Flight'} properties={'wheels_off': '0713', 'taxi_in': '10', 'distance': '226', 'year': '2015', 'scheduled_time': '72', 'scheduled_arrival': '0812', 'diverted': '0', 'taxi_out': '15', 'tail_number': 'N540UW', 'elapsed_time': '63', 'air_time': '38', 'airline': 'US', 'departure_time': '0658', 'day': '1', 'departure_delay': '-2', 'day_of_week': '4', 'arrival_time': '0801', 'wheels_on': '0751', 'flight_number': '461', 'origin_airport': 'ATL', 'destination_airport': 'CLT', 'month': '1', 'cancelled': '0', 'scheduled_departure': '0700', 'arrival_delay': '-11'}>>,\n",
       " <Record fl=<Node id=459838 labels={'Flight'} properties={'wheels_off': '1039', 'taxi_in': '4', 'distance': '226', 'year': '2015', 'scheduled_time': '75', 'scheduled_arrival': '1145', 'diverted': '0', 'taxi_out': '13', 'tail_number': 'N988DL', 'elapsed_time': '55', 'air_time': '38', 'airline': 'DL', 'departure_time': '1026', 'day': '1', 'departure_delay': '-4', 'day_of_week': '4', 'arrival_time': '1121', 'wheels_on': '1117', 'flight_number': '1095', 'origin_airport': 'ATL', 'destination_airport': 'CLT', 'month': '1', 'cancelled': '0', 'scheduled_departure': '1030', 'arrival_delay': '-24'}>>]"
      ]
     },
     "execution_count": 92,
     "metadata": {},
     "output_type": "execute_result"
    }
   ],
   "source": [
    "results, time = NeoQuery(\n",
    "    \"\"\"\n",
    "    MATCH (:Airport {iata: 'ATL'})-[:HAS_DEPARTURE]->(fl:Flight {day: '1'})-[:FLIES_TO]->(ar:Airport {iata: 'CLT'})\n",
    "    RETURN fl\n",
    "    \"\"\"\n",
    ").query()\n",
    "\n",
    "print(time)\n",
    "[record for record in results]"
   ]
  },
  {
   "cell_type": "markdown",
   "metadata": {},
   "source": [
    "Query for All flights with a specific tail number"
   ]
  },
  {
   "cell_type": "code",
   "execution_count": 93,
   "metadata": {},
   "outputs": [
    {
     "name": "stdout",
     "output_type": "stream",
     "text": [
      "1.1943601919992943\n"
     ]
    },
    {
     "data": {
      "text/plain": [
       "[<Record fl=<Node id=466784 labels={'Flight'} properties={'wheels_off': '1422', 'taxi_in': '7', 'distance': '2139', 'year': '2015', 'scheduled_time': '269', 'scheduled_arrival': '2139', 'diverted': '0', 'taxi_out': '12', 'tail_number': 'N129DL', 'elapsed_time': '258', 'air_time': '239', 'airline': 'DL', 'departure_time': '1410', 'day': '1', 'departure_delay': '0', 'day_of_week': '4', 'arrival_time': '2128', 'wheels_on': '2121', 'flight_number': '61', 'origin_airport': 'SFO', 'destination_airport': 'ATL', 'month': '1', 'cancelled': '0', 'scheduled_departure': '1410', 'arrival_delay': '-11'}>>,\n",
       " <Record fl=<Node id=460084 labels={'Flight'} properties={'wheels_off': '1100', 'taxi_in': '8', 'distance': '2139', 'year': '2015', 'scheduled_time': '330', 'scheduled_arrival': '1310', 'diverted': '0', 'taxi_out': '17', 'tail_number': 'N129DL', 'elapsed_time': '302', 'air_time': '277', 'airline': 'DL', 'departure_time': '1043', 'day': '1', 'departure_delay': '3', 'day_of_week': '4', 'arrival_time': '1245', 'wheels_on': '1237', 'flight_number': '1680', 'origin_airport': 'ATL', 'destination_airport': 'SFO', 'month': '1', 'cancelled': '0', 'scheduled_departure': '1040', 'arrival_delay': '-25'}>>]"
      ]
     },
     "execution_count": 93,
     "metadata": {},
     "output_type": "execute_result"
    }
   ],
   "source": [
    "results, time = NeoQuery(\n",
    "    \"\"\"\n",
    "    MATCH (ar:Airport)-[:HAS_DEPARTURE]->(fl:Flight)-[:USES]->(tl:Tail {number: 'N129DL'})\n",
    "    RETURN distinct fl\n",
    "    \"\"\"\n",
    ").query(200)\n",
    "\n",
    "print(time)\n",
    "[record for record in results]"
   ]
  },
  {
   "cell_type": "markdown",
   "metadata": {},
   "source": [
    "Query for all flights with specific tail number, but this query is slower"
   ]
  },
  {
   "cell_type": "code",
   "execution_count": 94,
   "metadata": {},
   "outputs": [
    {
     "name": "stdout",
     "output_type": "stream",
     "text": [
      "3.127421900000627\n"
     ]
    },
    {
     "data": {
      "text/plain": [
       "[<Record fl=<Node id=460084 labels={'Flight'} properties={'wheels_off': '1100', 'taxi_in': '8', 'distance': '2139', 'year': '2015', 'scheduled_time': '330', 'scheduled_arrival': '1310', 'diverted': '0', 'taxi_out': '17', 'tail_number': 'N129DL', 'elapsed_time': '302', 'air_time': '277', 'airline': 'DL', 'departure_time': '1043', 'day': '1', 'departure_delay': '3', 'day_of_week': '4', 'arrival_time': '1245', 'wheels_on': '1237', 'flight_number': '1680', 'origin_airport': 'ATL', 'destination_airport': 'SFO', 'month': '1', 'cancelled': '0', 'scheduled_departure': '1040', 'arrival_delay': '-25'}>>,\n",
       " <Record fl=<Node id=466784 labels={'Flight'} properties={'wheels_off': '1422', 'taxi_in': '7', 'distance': '2139', 'year': '2015', 'scheduled_time': '269', 'scheduled_arrival': '2139', 'diverted': '0', 'taxi_out': '12', 'tail_number': 'N129DL', 'elapsed_time': '258', 'air_time': '239', 'airline': 'DL', 'departure_time': '1410', 'day': '1', 'departure_delay': '0', 'day_of_week': '4', 'arrival_time': '2128', 'wheels_on': '2121', 'flight_number': '61', 'origin_airport': 'SFO', 'destination_airport': 'ATL', 'month': '1', 'cancelled': '0', 'scheduled_departure': '1410', 'arrival_delay': '-11'}>>]"
      ]
     },
     "execution_count": 94,
     "metadata": {},
     "output_type": "execute_result"
    }
   ],
   "source": [
    "results, time = NeoQuery(\n",
    "    \"\"\"\n",
    "    MATCH (ar:Airport)-[:HAS_DEPARTURE]->(fl:Flight {tail_number: 'N129DL'})\n",
    "    RETURN fl\n",
    "    \"\"\"\n",
    ").query(200)\n",
    "\n",
    "print(time)\n",
    "[record for record in results]"
   ]
  },
  {
   "cell_type": "code",
   "execution_count": null,
   "metadata": {},
   "outputs": [],
   "source": []
  },
  {
   "cell_type": "code",
   "execution_count": null,
   "metadata": {},
   "outputs": [],
   "source": []
  }
 ],
 "metadata": {
  "kernelspec": {
   "display_name": "Python 3",
   "language": "python",
   "name": "python3"
  },
  "language_info": {
   "codemirror_mode": {
    "name": "ipython",
    "version": 3
   },
   "file_extension": ".py",
   "mimetype": "text/x-python",
   "name": "python",
   "nbconvert_exporter": "python",
   "pygments_lexer": "ipython3",
   "version": "3.7.4"
  }
 },
 "nbformat": 4,
 "nbformat_minor": 2
}
