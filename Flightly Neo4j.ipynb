{
 "cells": [
  {
   "cell_type": "markdown",
   "metadata": {},
   "source": [
    "# Flightly\n",
    "\n",
    "Modelling 2015 US commercial airline flight queries using SQL and Neo4j"
   ]
  },
  {
   "cell_type": "markdown",
   "metadata": {},
   "source": [
    "### Setup Neo4j Query Object Wrapper\n",
    "This object will allow us to receive the result of the query and also measure the time it takes for X number of queries to be completed."
   ]
  },
  {
   "cell_type": "code",
   "execution_count": 85,
   "metadata": {},
   "outputs": [],
   "source": [
    "LINE_LIMIT = 10000"
   ]
  },
  {
   "cell_type": "code",
   "execution_count": 43,
   "metadata": {},
   "outputs": [],
   "source": [
    "from neo4j import GraphDatabase\n",
    "import timeit\n",
    "\n",
    "neoconn = ('bolt://localhost:7687', 'neo4j', 'password')\n",
    "\n",
    "class NeoQuery(object):\n",
    "    def __init__(self, query):\n",
    "        url, user, password = neoconn\n",
    "        self._driver = GraphDatabase.driver(url, auth=(user, password))\n",
    "        self._query = query\n",
    "\n",
    "    def close(self):\n",
    "        self._driver.close()\n",
    "        \n",
    "    def query(self, times=1):\n",
    "        results = self._run_cypher()\n",
    "        time = timeit.timeit(self._run_cypher, number=times)\n",
    "        self.close()\n",
    "        return results, time\n",
    "        \n",
    "    def _run_cypher(self):\n",
    "        with self._driver.session() as session:\n",
    "            return session.run(self._query)"
   ]
  },
  {
   "cell_type": "markdown",
   "metadata": {},
   "source": [
    "### Setup Postgres Query Wrapper"
   ]
  },
  {
   "cell_type": "code",
   "execution_count": 44,
   "metadata": {},
   "outputs": [],
   "source": [
    "tmp = !pwd\n",
    "current_path = tmp[0]\n",
    "\n",
    "import psycopg2\n",
    "from psycopg2 import Error\n",
    "import timeit\n",
    "\n",
    "pgconn = ('kevin', '', '127.0.0.1', '5432', 'flightly')\n",
    "\n",
    "class PostgresQuery(object):\n",
    "    def __init__(self, query):\n",
    "        user, password, host, port, database = pgconn\n",
    "        self._query = query\n",
    "        try:\n",
    "            self._connection = psycopg2.connect(\n",
    "                user = user,\n",
    "                password = password,\n",
    "                host = host,\n",
    "                port = port,\n",
    "                database = database\n",
    "            )\n",
    "            self._cursor = self._connection.cursor()\n",
    "        except:\n",
    "            print(\"Failed to connect to PostgreSQL DB\")\n",
    "\n",
    "    def query(self, times=1):\n",
    "        try:\n",
    "            results = self._run_sql()\n",
    "            time = timeit.timeit(self._run_sql, number=times)\n",
    "            self._connection.commit()\n",
    "            return results, time\n",
    "        except (Exception, psycopg2.DatabaseError) as error :\n",
    "            print (\"Error while executing SQL command\", error)\n",
    "        finally:\n",
    "            self._cursor.close()\n",
    "            self._connection.close()\n",
    "    \n",
    "    def _run_sql(self):      \n",
    "        self._cursor.execute(self._query)\n",
    "        try:\n",
    "            return self._cursor.fetchall()\n",
    "        except:\n",
    "            return []"
   ]
  },
  {
   "cell_type": "markdown",
   "metadata": {},
   "source": [
    "### Initialization queries\n",
    "Delete all of the existing nodes and relationships to start with clean slate.\n",
    "Then, load all the csv files into the DB"
   ]
  },
  {
   "cell_type": "code",
   "execution_count": 45,
   "metadata": {},
   "outputs": [],
   "source": [
    "init_queries = {\n",
    "    'delete_all': \"\"\"\n",
    "                   MATCH (n)\n",
    "                   DETACH DELETE n\n",
    "                   \"\"\",\n",
    "    'load_airlines': \"\"\"\n",
    "            LOAD CSV FROM 'file:///flightly/airlines.csv' AS line\n",
    "            CREATE (:Airline { name: line[1], iata: line[0]})\n",
    "            \"\"\",\n",
    "    'load_airports': \"\"\"\n",
    "            LOAD CSV FROM 'file:///flightly/airports.csv' AS line\n",
    "            CREATE (:Airport { name: line[1], iata: line[0], city: line[2], state: line[3], country: line[4], latitude: line[5], longitude: line[6]})\n",
    "            \"\"\",\n",
    "    'load_flights': f\"\"\"\n",
    "            USING PERIODIC COMMIT 1000\n",
    "            LOAD CSV FROM 'file:///flightly/flights.csv' AS line\n",
    "            WITH line LIMIT {LINE_LIMIT}\n",
    "            CREATE (:Flight {{ \n",
    "                year: line[0],\n",
    "                month: line[1],\n",
    "                day: line[2],\n",
    "                day_of_week: line[3],\n",
    "                airline: line[4],\n",
    "                flight_number: line[5],\n",
    "                tail_number: line[6],\n",
    "                origin_airport: line[7],\n",
    "                destination_airport: line[8],\n",
    "                scheduled_departure: line[9],\n",
    "                departure_time: line[10],\n",
    "                departure_delay: line[11],\n",
    "                taxi_out: line[12],\n",
    "                wheels_off: line[13],\n",
    "                scheduled_time: line[14],\n",
    "                elapsed_time: line[15],\n",
    "                air_time: line[16],\n",
    "                distance: line[17],\n",
    "                wheels_on: line[18],\n",
    "                taxi_in: line[19],\n",
    "                scheduled_arrival: line[20],\n",
    "                arrival_time: line[21],\n",
    "                arrival_delay: line[22],\n",
    "                diverted: line[23],\n",
    "                cancelled: line[24],\n",
    "                cancellation_reason: line[25],\n",
    "                air_system_delay: line[26],\n",
    "                security_delay: line[27],\n",
    "                airline_delay: line[28],\n",
    "                late_aircraft_delay: line[29],\n",
    "                weather_delay: line[30]\n",
    "            }})\n",
    "            CREATE (:Tail {{\n",
    "                number: line[6]\n",
    "            }})\n",
    "            \"\"\"\n",
    "}\n",
    "\n",
    "for query in init_queries.items():\n",
    "    NeoQuery(query[1]).query(0)"
   ]
  },
  {
   "cell_type": "code",
   "execution_count": 46,
   "metadata": {},
   "outputs": [],
   "source": [
    "init_queries = {\n",
    "    'drop_all_tables': \"\"\"\n",
    "        DROP SCHEMA public CASCADE;\n",
    "        CREATE SCHEMA public;\n",
    "        \n",
    "        GRANT ALL ON SCHEMA public TO postgres;\n",
    "        GRANT ALL ON SCHEMA public TO public;\n",
    "        \"\"\",\n",
    "    'create_airlines_table': \"\"\"\n",
    "        CREATE TABLE IF NOT EXISTS airlines (\n",
    "          iata text,\n",
    "          name text);\n",
    "        \"\"\",\n",
    "    'create_airports_table': \"\"\"\n",
    "        CREATE TABLE IF NOT EXISTS airports (\n",
    "          iata text,\n",
    "          name text,\n",
    "          city text,\n",
    "          state text,\n",
    "          country text,\n",
    "          latitude text,\n",
    "          longitude text\n",
    "          );\n",
    "        \"\"\",\n",
    "    'create_flights_table': \"\"\"\n",
    "        CREATE TABLE IF NOT EXISTS flights (\n",
    "            year text,\n",
    "            month text,\n",
    "            day text,\n",
    "            day_of_week text,\n",
    "            airline text,\n",
    "            flight_number text,\n",
    "            tail_number text,\n",
    "            origin_airport text,\n",
    "            destination_airport text,\n",
    "            scheduled_departure text,\n",
    "            departure_time text,\n",
    "            departure_delay text,\n",
    "            taxi_out text,\n",
    "            wheels_off text,\n",
    "            scheduled_time text,\n",
    "            elapsed_time text,\n",
    "            air_time text,\n",
    "            distance text,\n",
    "            wheels_on text,\n",
    "            taxi_in text,\n",
    "            scheduled_arrival text,\n",
    "            arrival_time text,\n",
    "            arrival_delay text,\n",
    "            diverted text,\n",
    "            cancelled text,\n",
    "            cancellation_reason text,\n",
    "            air_system_delay text,\n",
    "            security_delay text,\n",
    "            airline_delay text,\n",
    "            late_aircraft_delay text,\n",
    "            weather_delay text\n",
    "        );\n",
    "        \"\"\",\n",
    "    'load_airlines_csv': f\"\"\"\n",
    "        COPY airlines\n",
    "        FROM '{current_path}/csv/airlines.csv' DELIMITER ',' HEADER CSV;\n",
    "        \"\"\",\n",
    "    'load_airports_csv': f\"\"\"\n",
    "        COPY airports\n",
    "        FROM '{current_path}/csv/airports.csv' DELIMITER ',' HEADER CSV;\n",
    "        \"\"\",\n",
    "    'load_flights_csv': f\"\"\"\n",
    "        COPY flights\n",
    "        FROM PROGRAM 'head -{LINE_LIMIT} {current_path}/csv/flights.csv' DELIMITER ',' HEADER CSV;\n",
    "        \"\"\"\n",
    "}\n",
    "\n",
    "for query in init_queries.items():\n",
    "    PostgresQuery(query[1]).query(0)"
   ]
  },
  {
   "cell_type": "markdown",
   "metadata": {},
   "source": [
    "### Match queries\n",
    "Create the relationships that..."
   ]
  },
  {
   "cell_type": "code",
   "execution_count": 47,
   "metadata": {},
   "outputs": [],
   "source": [
    "match_queries = {\n",
    "    'match_origin_airport': \"\"\"\n",
    "            MATCH (fl:Flight),(ap:Airport)\n",
    "            WHERE fl.origin_airport = ap.iata\n",
    "            CREATE (ap)-[r:HAS_DEPARTURE]->(fl)\n",
    "            RETURN type(r)\n",
    "            \"\"\",\n",
    "        \n",
    "    'match_destination_airport': \"\"\"\n",
    "            MATCH (fl:Flight),(ap:Airport)\n",
    "            WHERE fl.destination_airport = ap.iata\n",
    "            CREATE (fl)-[:FLIES_TO]->(ap)\n",
    "            \"\"\",\n",
    "    'match_airline': \"\"\"\n",
    "            MATCH (fl:Flight),(al:Airline)\n",
    "            WHERE fl.airline = al.iata\n",
    "            CREATE (fl)-[:OPERATED_BY]->(al)\n",
    "            \"\"\",\n",
    "    'match_tail': \"\"\"\n",
    "            MATCH (fl:Flight),(tl:Tail)\n",
    "            WHERE fl.tail_number = tl.number\n",
    "            CREATE (fl)-[:USES]->(tl)\n",
    "            \"\"\"\n",
    "}\n",
    "\n",
    "for query in match_queries.items():\n",
    "    NeoQuery(query[1]).query(0)"
   ]
  },
  {
   "cell_type": "markdown",
   "metadata": {},
   "source": [
    "### Single entity queries"
   ]
  },
  {
   "cell_type": "code",
   "execution_count": 119,
   "metadata": {},
   "outputs": [
    {
     "name": "stdout",
     "output_type": "stream",
     "text": [
      "1.1077358109996567\n",
      "0.4192824809997546\n"
     ]
    },
    {
     "data": {
      "text/plain": [
       "[]"
      ]
     },
     "execution_count": 119,
     "metadata": {},
     "output_type": "execute_result"
    }
   ],
   "source": [
    "# all flights out of ORD\n",
    "\n",
    "nresults, ntime = NeoQuery(\n",
    "    \"\"\"\n",
    "    MATCH (fl:Flight {origin_airport: 'ORD'})\n",
    "    RETURN fl.flight_number\n",
    "    \"\"\"\n",
    ").query(100)\n",
    "\n",
    "presults, ptime = PostgresQuery(\n",
    "    \"\"\"\n",
    "    SELECT flight_number from flights where origin_airport = 'ORD'\n",
    "    \"\"\"\n",
    ").query(100)\n",
    "\n",
    "#time and results\n",
    "\n",
    "print(ntime)\n",
    "nresults = [record[0] for record in nresults]\n",
    "\n",
    "print(ptime)\n",
    "presults = [record[0] for record in presults]\n",
    "\n",
    "list(set(presults) - set(nresults))"
   ]
  },
  {
   "cell_type": "code",
   "execution_count": 118,
   "metadata": {},
   "outputs": [
    {
     "name": "stdout",
     "output_type": "stream",
     "text": [
      "1.4477670499982196\n",
      "0.5708503049991123\n"
     ]
    },
    {
     "data": {
      "text/plain": [
       "[]"
      ]
     },
     "execution_count": 118,
     "metadata": {},
     "output_type": "execute_result"
    }
   ],
   "source": [
    "# all flights with a delay of more than 100 minutes\n",
    "\n",
    "nresults, ntime = NeoQuery(\n",
    "    \"\"\"\n",
    "    MATCH (fl:Flight)\n",
    "    WHERE toInteger(fl.departure_delay) > 100\n",
    "    RETURN fl.flight_number\n",
    "    \"\"\"\n",
    ").query(100)\n",
    "\n",
    "presults, ptime = PostgresQuery(\n",
    "    \"\"\"\n",
    "    SELECT flight_number from flights WHERE CAST (departure_delay AS INTEGER) > 100\n",
    "    \"\"\"\n",
    ").query(100)\n",
    "\n",
    "time and results\n",
    "\n",
    "print(ntime)\n",
    "nresults = [record[0] for record in nresults]\n",
    "\n",
    "print(ptime)\n",
    "presults = [record[0] for record in presults]\n",
    "\n",
    "list(set(presults) - set(nresults))"
   ]
  },
  {
   "cell_type": "code",
   "execution_count": 27,
   "metadata": {},
   "outputs": [
    {
     "name": "stdout",
     "output_type": "stream",
     "text": [
      "2.3094601739999234\n"
     ]
    },
    {
     "data": {
      "text/plain": [
       "['356', '1473', '1652', '1635', '314', '17', '1513', '1455', '194']"
      ]
     },
     "execution_count": 27,
     "metadata": {},
     "output_type": "execute_result"
    }
   ],
   "source": [
    "results, time = NeoQuery(\n",
    "    \"\"\"\n",
    "    MATCH (ord:Airport {iata: 'ATL'})-[:HAS_DEPARTURE]->(fl:Flight)-[:OPERATED_BY]->(al:Airline {iata: 'AA'})\n",
    "    RETURN fl\n",
    "    \"\"\"\n",
    ").query(500)\n",
    "\n",
    "print(time)\n",
    "[record['fl']['flight_number'] for record in results]"
   ]
  },
  {
   "cell_type": "code",
   "execution_count": 26,
   "metadata": {},
   "outputs": [
    {
     "name": "stdout",
     "output_type": "stream",
     "text": [
      "1.3964611820001664\n"
     ]
    },
    {
     "data": {
      "text/plain": [
       "['1808', '1095', '461', '889', '1999', '2065', '1441', '2133']"
      ]
     },
     "execution_count": 26,
     "metadata": {},
     "output_type": "execute_result"
    }
   ],
   "source": [
    "results, time = NeoQuery(\n",
    "    \"\"\"\n",
    "    MATCH (:Airport {iata: 'ATL'})-[:HAS_DEPARTURE]->(fl:Flight)-[:FLIES_TO]->(ar:Airport {iata: 'CLT'})\n",
    "    RETURN fl\n",
    "    \"\"\"\n",
    ").query(500)\n",
    "\n",
    "print(time)\n",
    "[record['fl']['flight_number'] for record in results]"
   ]
  },
  {
   "cell_type": "markdown",
   "metadata": {},
   "source": [
    "Query for All flights with a specific tail number"
   ]
  },
  {
   "cell_type": "code",
   "execution_count": 93,
   "metadata": {},
   "outputs": [
    {
     "name": "stdout",
     "output_type": "stream",
     "text": [
      "1.1943601919992943\n"
     ]
    },
    {
     "data": {
      "text/plain": [
       "[<Record fl=<Node id=466784 labels={'Flight'} properties={'wheels_off': '1422', 'taxi_in': '7', 'distance': '2139', 'year': '2015', 'scheduled_time': '269', 'scheduled_arrival': '2139', 'diverted': '0', 'taxi_out': '12', 'tail_number': 'N129DL', 'elapsed_time': '258', 'air_time': '239', 'airline': 'DL', 'departure_time': '1410', 'day': '1', 'departure_delay': '0', 'day_of_week': '4', 'arrival_time': '2128', 'wheels_on': '2121', 'flight_number': '61', 'origin_airport': 'SFO', 'destination_airport': 'ATL', 'month': '1', 'cancelled': '0', 'scheduled_departure': '1410', 'arrival_delay': '-11'}>>,\n",
       " <Record fl=<Node id=460084 labels={'Flight'} properties={'wheels_off': '1100', 'taxi_in': '8', 'distance': '2139', 'year': '2015', 'scheduled_time': '330', 'scheduled_arrival': '1310', 'diverted': '0', 'taxi_out': '17', 'tail_number': 'N129DL', 'elapsed_time': '302', 'air_time': '277', 'airline': 'DL', 'departure_time': '1043', 'day': '1', 'departure_delay': '3', 'day_of_week': '4', 'arrival_time': '1245', 'wheels_on': '1237', 'flight_number': '1680', 'origin_airport': 'ATL', 'destination_airport': 'SFO', 'month': '1', 'cancelled': '0', 'scheduled_departure': '1040', 'arrival_delay': '-25'}>>]"
      ]
     },
     "execution_count": 93,
     "metadata": {},
     "output_type": "execute_result"
    }
   ],
   "source": [
    "results, time = NeoQuery(\n",
    "    \"\"\"\n",
    "    MATCH (ar:Airport)-[:HAS_DEPARTURE]->(fl:Flight)-[:USES]->(tl:Tail {number: 'N129DL'})\n",
    "    RETURN distinct fl\n",
    "    \"\"\"\n",
    ").query(200)\n",
    "\n",
    "print(time)\n",
    "[record for record in results]"
   ]
  },
  {
   "cell_type": "markdown",
   "metadata": {},
   "source": [
    "Query for all flights with specific tail number, but this query is slower"
   ]
  },
  {
   "cell_type": "code",
   "execution_count": 94,
   "metadata": {},
   "outputs": [
    {
     "name": "stdout",
     "output_type": "stream",
     "text": [
      "3.127421900000627\n"
     ]
    },
    {
     "data": {
      "text/plain": [
       "[<Record fl=<Node id=460084 labels={'Flight'} properties={'wheels_off': '1100', 'taxi_in': '8', 'distance': '2139', 'year': '2015', 'scheduled_time': '330', 'scheduled_arrival': '1310', 'diverted': '0', 'taxi_out': '17', 'tail_number': 'N129DL', 'elapsed_time': '302', 'air_time': '277', 'airline': 'DL', 'departure_time': '1043', 'day': '1', 'departure_delay': '3', 'day_of_week': '4', 'arrival_time': '1245', 'wheels_on': '1237', 'flight_number': '1680', 'origin_airport': 'ATL', 'destination_airport': 'SFO', 'month': '1', 'cancelled': '0', 'scheduled_departure': '1040', 'arrival_delay': '-25'}>>,\n",
       " <Record fl=<Node id=466784 labels={'Flight'} properties={'wheels_off': '1422', 'taxi_in': '7', 'distance': '2139', 'year': '2015', 'scheduled_time': '269', 'scheduled_arrival': '2139', 'diverted': '0', 'taxi_out': '12', 'tail_number': 'N129DL', 'elapsed_time': '258', 'air_time': '239', 'airline': 'DL', 'departure_time': '1410', 'day': '1', 'departure_delay': '0', 'day_of_week': '4', 'arrival_time': '2128', 'wheels_on': '2121', 'flight_number': '61', 'origin_airport': 'SFO', 'destination_airport': 'ATL', 'month': '1', 'cancelled': '0', 'scheduled_departure': '1410', 'arrival_delay': '-11'}>>]"
      ]
     },
     "execution_count": 94,
     "metadata": {},
     "output_type": "execute_result"
    }
   ],
   "source": [
    "results, time = NeoQuery(\n",
    "    \"\"\"\n",
    "    MATCH (ar:Airport)-[:HAS_DEPARTURE]->(fl:Flight {tail_number: 'N129DL'})\n",
    "    RETURN fl\n",
    "    \"\"\"\n",
    ").query(200)\n",
    "\n",
    "print(time)\n",
    "[record for record in results]"
   ]
  },
  {
   "cell_type": "code",
   "execution_count": null,
   "metadata": {},
   "outputs": [],
   "source": []
  },
  {
   "cell_type": "code",
   "execution_count": null,
   "metadata": {},
   "outputs": [],
   "source": []
  }
 ],
 "metadata": {
  "kernelspec": {
   "display_name": "Python 3",
   "language": "python",
   "name": "python3"
  },
  "language_info": {
   "codemirror_mode": {
    "name": "ipython",
    "version": 3
   },
   "file_extension": ".py",
   "mimetype": "text/x-python",
   "name": "python",
   "nbconvert_exporter": "python",
   "pygments_lexer": "ipython3",
   "version": "3.7.4"
  }
 },
 "nbformat": 4,
 "nbformat_minor": 2
}
