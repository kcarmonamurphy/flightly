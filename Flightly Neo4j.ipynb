{
 "cells": [
  {
   "cell_type": "markdown",
   "metadata": {},
   "source": [
    "# Flightly\n",
    "\n",
    "Modelling 2015 US commercial airline flight queries using SQL and Neo4j"
   ]
  },
  {
   "cell_type": "code",
   "execution_count": 1,
   "metadata": {},
   "outputs": [
    {
     "data": {
      "text/plain": [
       "6"
      ]
     },
     "execution_count": 1,
     "metadata": {},
     "output_type": "execute_result"
    }
   ],
   "source": [
    "3+3"
   ]
  },
  {
   "cell_type": "code",
   "execution_count": 30,
   "metadata": {},
   "outputs": [],
   "source": [
    "from neo4j import GraphDatabase\n",
    "\n",
    "class Neo4jGDB(object):\n",
    "\n",
    "    def __init__(self, uri, user, password):\n",
    "        self._driver = GraphDatabase.driver(uri, auth=(user, password))\n",
    "\n",
    "    def close(self):\n",
    "        self._driver.close()\n",
    "    \n",
    "    def load_csv(self):\n",
    "        with self._driver.session() as session:\n",
    "            session.write_transaction(self._load_airlines)\n",
    "            session.write_transaction(self._load_airports)\n",
    "            session.run(self._load_flights()) #to allow for periodic commit\n",
    "    \n",
    "    def match_relationships(self):\n",
    "        with self._driver.session() as session:\n",
    "            session.write_transaction(self._match_origin_airport)\n",
    "            session.write_transaction(self._match_destination_airport)\n",
    "            session.write_transaction(self._match_airline)\n",
    "            \n",
    "    def delete_all(self):\n",
    "        with self._driver.session() as session:\n",
    "            session.write_transaction(self._delete_all)\n",
    "    \n",
    "    @staticmethod\n",
    "    def _delete_all(tx):\n",
    "        tx.run(\"\"\"\n",
    "               MATCH (n)\n",
    "               DETACH DELETE n\n",
    "               \"\"\")\n",
    "    \n",
    "    @staticmethod\n",
    "    def _load_airlines(tx):\n",
    "        tx.run(\"\"\"\n",
    "            LOAD CSV FROM 'file:///flightly/airlines.csv' AS line\n",
    "            CREATE (:Airline { name: line[1], iata: line[0]})\n",
    "            \"\"\")\n",
    "    \n",
    "    @staticmethod\n",
    "    def _load_airports(tx):\n",
    "        tx.run(\"\"\"\n",
    "            LOAD CSV FROM 'file:///flightly/airports.csv' AS line\n",
    "            CREATE (:Airport { name: line[1], iata: line[0], city: line[2], state: line[3], country: line[4], latitude: line[5], longitude: line[6]})\n",
    "            \"\"\")\n",
    "        \n",
    "    @staticmethod\n",
    "    def _match_origin_airport(tx):\n",
    "        tx.run(\"\"\"\n",
    "            MATCH (fl:Flight),(ap:Airport)\n",
    "            WHERE fl.origin_airport = ap.iata\n",
    "            CREATE (ap)-[r:HAS_DEPARTURE]->(fl)\n",
    "            RETURN type(r)\n",
    "            \"\"\")\n",
    "        \n",
    "    @staticmethod\n",
    "    def _match_destination_airport(tx):\n",
    "        tx.run(\"\"\"\n",
    "            MATCH (fl:Flight),(ap:Airport)\n",
    "            WHERE fl.destination_airport = ap.iata\n",
    "            CREATE (fl)-[:FLIES_TO]->(ap)\n",
    "            \"\"\")\n",
    "    \n",
    "    @staticmethod\n",
    "    def _match_airline(tx):\n",
    "        tx.run(\"\"\"\n",
    "            MATCH (fl:Flight),(al:Airline)\n",
    "            WHERE fl.airline = al.iata\n",
    "            CREATE (fl)-[:OPERATED_BY]->(al)\n",
    "            \"\"\")\n",
    "        \n",
    "    @staticmethod\n",
    "    def _load_flights():\n",
    "        return \"\"\"\n",
    "            USING PERIODIC COMMIT 1000\n",
    "            LOAD CSV FROM 'file:///flightly/flights.csv' AS line\n",
    "            WITH line LIMIT 10000\n",
    "            CREATE (:Flight { \n",
    "                year: line[0],\n",
    "                month: line[1],\n",
    "                day: line[2],\n",
    "                day_of_week: line[3],\n",
    "                airline: line[4],\n",
    "                flight_number: line[5],\n",
    "                tail_number: line[6],\n",
    "                origin_airport: line[7],\n",
    "                destination_airport: line[8],\n",
    "                scheduled_departure: line[9],\n",
    "                departure_time: line[10],\n",
    "                departure_delay: line[11],\n",
    "                taxi_out: line[12],\n",
    "                wheels_off: line[13],\n",
    "                scheduled_time: line[14],\n",
    "                elapsed_time: line[15],\n",
    "                air_time: line[16],\n",
    "                distance: line[17],\n",
    "                wheels_on: line[18],\n",
    "                taxi_in: line[19],\n",
    "                scheduled_arrival: line[20],\n",
    "                arrival_time: line[21],\n",
    "                arrival_delay: line[22],\n",
    "                diverted: line[23],\n",
    "                cancelled: line[24],\n",
    "                cancellation_reason: line[25],\n",
    "                air_system_delay: line[26],\n",
    "                security_delay: line[27],\n",
    "                airline_delay: line[28],\n",
    "                late_aircraft_delay: line[29],\n",
    "                weather_delay: line[30]\n",
    "            })\n",
    "            \"\"\""
   ]
  },
  {
   "cell_type": "code",
   "execution_count": 23,
   "metadata": {},
   "outputs": [],
   "source": [
    "setup = Neo4jGDB('bolt://localhost:7687', 'neo4j', 'password')"
   ]
  },
  {
   "cell_type": "code",
   "execution_count": 25,
   "metadata": {},
   "outputs": [],
   "source": [
    "setup.delete_all()\n",
    "setup.load_csv()\n",
    "setup.match_relationships()"
   ]
  },
  {
   "cell_type": "markdown",
   "metadata": {},
   "source": [
    "### Time different Queries"
   ]
  },
  {
   "cell_type": "code",
   "execution_count": 83,
   "metadata": {},
   "outputs": [],
   "source": [
    "from neo4j import GraphDatabase\n",
    "import timeit\n",
    "\n",
    "conn = ('bolt://localhost:7687', 'neo4j', 'password')\n",
    "\n",
    "class NeoQuery(object):\n",
    "\n",
    "    def __init__(self, query):\n",
    "        url, user, password = conn\n",
    "        self._driver = GraphDatabase.driver(url, auth=(user, password))\n",
    "        self._query = query\n",
    "\n",
    "    def close(self):\n",
    "        self._driver.close()\n",
    "        \n",
    "    def query(self, times=1):\n",
    "        results = self._run_cypher()\n",
    "        time = timeit.timeit(self._run_cypher, number=times)\n",
    "        self.close()\n",
    "        return results, time\n",
    "        \n",
    "    def _run_cypher(self):\n",
    "        with self._driver.session() as session:\n",
    "            return session.run(self._query)\n",
    "        \n",
    "    def ord_departures(self):\n",
    "        with self._driver.session() as session:\n",
    "            results = session.run(\"\"\"\n",
    "                MATCH (ord:Airport {iata: 'ATL'})-[:HAS_DEPARTURE]->(fl:Flight)-[:OPERATED_BY]->(al:Airline {iata: 'AA'})\n",
    "                RETURN ord, fl\n",
    "                \"\"\")\n",
    "            return [record['fl'] for record in results]"
   ]
  },
  {
   "cell_type": "code",
   "execution_count": 87,
   "metadata": {},
   "outputs": [
    {
     "data": {
      "text/plain": [
       "[<Node id=295957 labels={'Flight'} properties={'wheels_off': '1417', 'taxi_in': '12', 'distance': '731', 'year': '2015', 'airline_delay': '3', 'scheduled_time': '150', 'scheduled_arrival': '1515', 'diverted': '0', 'taxi_out': '17', 'tail_number': 'N575AA', 'elapsed_time': '151', 'air_time': '122', 'weather_delay': '0', 'airline': 'AA', 'day': '1', 'departure_time': '1400', 'departure_delay': '15', 'day_of_week': '4', 'arrival_time': '1531', 'wheels_on': '1519', 'flight_number': '1473', 'origin_airport': 'ATL', 'destination_airport': 'DFW', 'late_aircraft_delay': '12', 'month': '1', 'cancelled': '0', 'scheduled_departure': '1345', 'security_delay': '0', 'arrival_delay': '16', 'air_system_delay': '1'}>,\n",
       " <Node id=290969 labels={'Flight'} properties={'wheels_off': '0817', 'taxi_in': '5', 'distance': '594', 'year': '2015', 'scheduled_time': '117', 'scheduled_arrival': '1012', 'diverted': '0', 'taxi_out': '11', 'tail_number': 'N015AA', 'elapsed_time': '97', 'air_time': '81', 'airline': 'AA', 'departure_time': '0806', 'day': '1', 'departure_delay': '-9', 'day_of_week': '4', 'arrival_time': '0943', 'wheels_on': '0938', 'flight_number': '1652', 'origin_airport': 'ATL', 'destination_airport': 'MIA', 'month': '1', 'cancelled': '0', 'scheduled_departure': '0815', 'arrival_delay': '-29'}>,\n",
       " <Node id=291487 labels={'Flight'} properties={'wheels_off': '0904', 'taxi_in': '16', 'distance': '731', 'year': '2015', 'scheduled_time': '150', 'scheduled_arrival': '1025', 'diverted': '0', 'taxi_out': '13', 'tail_number': 'N012AA', 'elapsed_time': '140', 'air_time': '111', 'airline': 'AA', 'departure_time': '0851', 'day': '1', 'departure_delay': '-4', 'day_of_week': '4', 'arrival_time': '1011', 'wheels_on': '0955', 'flight_number': '1455', 'origin_airport': 'ATL', 'destination_airport': 'DFW', 'month': '1', 'cancelled': '0', 'scheduled_departure': '0855', 'arrival_delay': '-14'}>,\n",
       " <Node id=289664 labels={'Flight'} properties={'distance': '731', 'year': '2015', 'flight_number': '1635', 'cancellation_reason': 'B', 'scheduled_time': '150', 'origin_airport': 'ATL', 'destination_airport': 'DFW', 'scheduled_arrival': '0755', 'diverted': '0', 'month': '1', 'tail_number': 'N025AA', 'cancelled': '1', 'scheduled_departure': '0625', 'airline': 'AA', 'day': '1', 'day_of_week': '4'}>,\n",
       " <Node id=294214 labels={'Flight'} properties={'wheels_off': '1226', 'taxi_in': '16', 'distance': '731', 'year': '2015', 'scheduled_time': '150', 'scheduled_arrival': '1325', 'diverted': '0', 'taxi_out': '16', 'tail_number': 'N585AA', 'elapsed_time': '149', 'air_time': '117', 'airline': 'AA', 'departure_time': '1210', 'day': '1', 'departure_delay': '15', 'day_of_week': '4', 'arrival_time': '1339', 'wheels_on': '1323', 'flight_number': '314', 'origin_airport': 'ATL', 'destination_airport': 'DFW', 'month': '1', 'cancelled': '0', 'scheduled_departure': '1155', 'arrival_delay': '14'}>,\n",
       " <Node id=289972 labels={'Flight'} properties={'wheels_off': '0711', 'taxi_in': '9', 'distance': '594', 'year': '2015', 'scheduled_time': '112', 'scheduled_arrival': '0852', 'diverted': '0', 'taxi_out': '15', 'tail_number': 'N019AA', 'elapsed_time': '106', 'air_time': '82', 'airline': 'AA', 'departure_time': '0656', 'day': '1', 'departure_delay': '-4', 'day_of_week': '4', 'arrival_time': '0842', 'wheels_on': '0833', 'flight_number': '17', 'origin_airport': 'ATL', 'destination_airport': 'MIA', 'month': '1', 'cancelled': '0', 'scheduled_departure': '0700', 'arrival_delay': '-10'}>,\n",
       " <Node id=293098 labels={'Flight'} properties={'wheels_off': '1056', 'taxi_in': '17', 'distance': '731', 'year': '2015', 'scheduled_time': '150', 'scheduled_arrival': '1215', 'diverted': '0', 'taxi_out': '13', 'tail_number': 'N008AA', 'elapsed_time': '145', 'air_time': '115', 'airline': 'AA', 'departure_time': '1043', 'day': '1', 'departure_delay': '-2', 'day_of_week': '4', 'arrival_time': '1208', 'wheels_on': '1151', 'flight_number': '1513', 'origin_airport': 'ATL', 'destination_airport': 'DFW', 'month': '1', 'cancelled': '0', 'scheduled_departure': '1045', 'arrival_delay': '-7'}>,\n",
       " <Node id=297512 labels={'Flight'} properties={'wheels_off': '1548', 'taxi_in': '12', 'distance': '731', 'year': '2015', 'scheduled_time': '145', 'scheduled_arrival': '1650', 'diverted': '0', 'taxi_out': '14', 'tail_number': 'N025AA', 'elapsed_time': '149', 'air_time': '123', 'airline': 'AA', 'departure_time': '1534', 'day': '1', 'departure_delay': '9', 'day_of_week': '4', 'arrival_time': '1703', 'wheels_on': '1651', 'flight_number': '194', 'origin_airport': 'ATL', 'destination_airport': 'DFW', 'month': '1', 'cancelled': '0', 'scheduled_departure': '1525', 'arrival_delay': '13'}>,\n",
       " <Node id=298712 labels={'Flight'} properties={'wheels_off': '1650', 'taxi_in': '14', 'distance': '731', 'year': '2015', 'scheduled_time': '145', 'scheduled_arrival': '1805', 'diverted': '0', 'taxi_out': '15', 'tail_number': 'N006AA', 'elapsed_time': '151', 'air_time': '122', 'airline': 'AA', 'departure_time': '1635', 'day': '1', 'departure_delay': '-5', 'day_of_week': '4', 'arrival_time': '1806', 'wheels_on': '1752', 'flight_number': '356', 'origin_airport': 'ATL', 'destination_airport': 'DFW', 'month': '1', 'cancelled': '0', 'scheduled_departure': '1640', 'arrival_delay': '1'}>]"
      ]
     },
     "execution_count": 87,
     "metadata": {},
     "output_type": "execute_result"
    }
   ],
   "source": [
    "results, time = NeoQuery(\"\"\"\n",
    "    MATCH (ord:Airport {iata: 'ATL'})-[:HAS_DEPARTURE]->(fl:Flight)-[:OPERATED_BY]->(al:Airline {iata: 'AA'}) RETURN ord, fl\n",
    "\"\"\").query(200)\n",
    "\n",
    "[record['fl'] for record in results]\n",
    "# time"
   ]
  },
  {
   "cell_type": "code",
   "execution_count": null,
   "metadata": {},
   "outputs": [],
   "source": []
  },
  {
   "cell_type": "code",
   "execution_count": null,
   "metadata": {},
   "outputs": [],
   "source": []
  },
  {
   "cell_type": "code",
   "execution_count": null,
   "metadata": {},
   "outputs": [],
   "source": []
  },
  {
   "cell_type": "code",
   "execution_count": null,
   "metadata": {},
   "outputs": [],
   "source": []
  }
 ],
 "metadata": {
  "kernelspec": {
   "display_name": "Python 3",
   "language": "python",
   "name": "python3"
  },
  "language_info": {
   "codemirror_mode": {
    "name": "ipython",
    "version": 3
   },
   "file_extension": ".py",
   "mimetype": "text/x-python",
   "name": "python",
   "nbconvert_exporter": "python",
   "pygments_lexer": "ipython3",
   "version": "3.7.4"
  }
 },
 "nbformat": 4,
 "nbformat_minor": 2
}
